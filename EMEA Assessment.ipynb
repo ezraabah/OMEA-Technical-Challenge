{
 "cells": [
  {
   "cell_type": "markdown",
   "id": "9ab98668",
   "metadata": {},
   "source": [
    "# OMD EMEA Technical Challenge"
   ]
  },
  {
   "cell_type": "markdown",
   "id": "744f23c6",
   "metadata": {},
   "source": [
    "## Problem definition"
   ]
  },
  {
   "cell_type": "markdown",
   "id": "db281420",
   "metadata": {},
   "source": [
    "The file data.csv contains a sample of 10,000 rows of user activity from the client’s CDP. Showing the number of impressions (defined in a marketing context as an ‘ad view’) per site per\n",
    "user. The data has some missing values which you will have to decide the best way to handle.\n",
    "The Excel file Website Descriptions provides more data around the websites used, you may wish to use this\n",
    "data to augment any analysis."
   ]
  },
  {
   "cell_type": "markdown",
   "id": "d3693560",
   "metadata": {},
   "source": [
    "You will need to build a model to predict clicks to make your recommendation. Care should be taken to\n",
    "ensure your model is both accurate and interpretable. You are free to use any tool, package, coding language\n",
    "or system you see fit, but the work must be entirely your own.\n",
    "Your final output will need to consist of the following: <br>\n",
    "• A prediction of clicks from a further 1,000 rows of user data in the file prediction.csv. Add a final\n",
    "column with your 1/0 predictions as per the main file.<br>\n",
    "• Your code, in any language, well commented and in a single executable file<br>\n",
    "• A short condensed report of your findings and recommendations. This should be suitable for XYZ\n",
    "Limited’s client media planning team at OMD, who are familiar with media terminology and strategy,\n",
    "but have no statistical or data science knowledge much beyond correlations and simple regression.\n",
    "<br>\n",
    "<br>\n",
    "You should clearly highlight your recommendations and findings, while offering confidence that your\n",
    "methodology and results are robust. You may want to think carefully about how to balance the two."
   ]
  },
  {
   "cell_type": "code",
   "execution_count": 1,
   "id": "75616619",
   "metadata": {},
   "outputs": [
    {
     "name": "stdout",
     "output_type": "stream",
     "text": [
      "Populating the interactive namespace from numpy and matplotlib\n"
     ]
    }
   ],
   "source": [
    "#Import needed libraries\n",
    "import numpy as np\n",
    "import pandas as pd\n",
    "np.random.seed(5) # for reproducibility\n",
    "from pandas import read_csv\n",
    "from numpy import array\n",
    "from numpy import argmax\n",
    "\n",
    "#Libraries for preprocessing\n",
    "from sklearn.preprocessing import MinMaxScaler\n",
    "from sklearn.preprocessing import LabelEncoder\n",
    "from sklearn.preprocessing import OneHotEncoder\n",
    "\n",
    "#Libraries for feature selection\n",
    "from sklearn.feature_selection import SelectKBest\n",
    "from sklearn.feature_selection import f_classif, chi2\n",
    "from sklearn.feature_selection import mutual_info_classif\n",
    "\n",
    "#Libraries for modelling\n",
    "from sklearn.model_selection import train_test_split\n",
    "from sklearn.svm import SVC\n",
    "from sklearn.linear_model import LogisticRegression \n",
    "\n",
    "# Libraries for metrics\n",
    "from sklearn import metrics\n",
    "from sklearn.metrics import classification_report \n",
    "from sklearn.metrics import confusion_matrix\n",
    "from sklearn.metrics import precision_score, accuracy_score, f1_score, recall_score\n",
    "\n",
    "# Libraries for visualisation\n",
    "from matplotlib import pyplot\n",
    "import seaborn as sns\n",
    "import matplotlib.pyplot as plt\n",
    "%pylab inline\n",
    "\n",
    "import warnings\n",
    "warnings.filterwarnings(\"ignore\")"
   ]
  },
  {
   "cell_type": "markdown",
   "id": "e1e6ee31",
   "metadata": {},
   "source": [
    "## Part 1: Data Discovery and preprocessing"
   ]
  },
  {
   "cell_type": "code",
   "execution_count": 2,
   "id": "7199cad5",
   "metadata": {},
   "outputs": [],
   "source": [
    "# Import all data\n",
    "\n",
    "# Import Training data\n",
    "df = pd.read_csv('data.csv')\n",
    "\n",
    "# Import Description data\n",
    "df_desc = pd.read_excel('Website Descriptions.xlsx')\n",
    "\n",
    "# Import test data\n",
    "df_test = pd.read_csv('prediction.csv')"
   ]
  },
  {
   "cell_type": "code",
   "execution_count": 3,
   "id": "d16c232d",
   "metadata": {
    "scrolled": true
   },
   "outputs": [
    {
     "data": {
      "text/html": [
       "<div>\n",
       "<style scoped>\n",
       "    .dataframe tbody tr th:only-of-type {\n",
       "        vertical-align: middle;\n",
       "    }\n",
       "\n",
       "    .dataframe tbody tr th {\n",
       "        vertical-align: top;\n",
       "    }\n",
       "\n",
       "    .dataframe thead th {\n",
       "        text-align: right;\n",
       "    }\n",
       "</style>\n",
       "<table border=\"1\" class=\"dataframe\">\n",
       "  <thead>\n",
       "    <tr style=\"text-align: right;\">\n",
       "      <th></th>\n",
       "      <th>Unnamed: 0</th>\n",
       "      <th>Addthis</th>\n",
       "      <th>Bebo</th>\n",
       "      <th>Blogcatalog</th>\n",
       "      <th>Blogger</th>\n",
       "      <th>Buddymedia</th>\n",
       "      <th>Cnet</th>\n",
       "      <th>Conduit</th>\n",
       "      <th>Customerlobby</th>\n",
       "      <th>Delicious</th>\n",
       "      <th>...</th>\n",
       "      <th>Vimeo</th>\n",
       "      <th>Vocus</th>\n",
       "      <th>Wetpaint</th>\n",
       "      <th>Wordpress</th>\n",
       "      <th>Xanga</th>\n",
       "      <th>Yelp</th>\n",
       "      <th>Yfrog</th>\n",
       "      <th>Youtube</th>\n",
       "      <th>Yuku</th>\n",
       "      <th>Click</th>\n",
       "    </tr>\n",
       "  </thead>\n",
       "  <tbody>\n",
       "    <tr>\n",
       "      <th>0</th>\n",
       "      <td>dmp923122274</td>\n",
       "      <td>0</td>\n",
       "      <td>0</td>\n",
       "      <td>2</td>\n",
       "      <td>0</td>\n",
       "      <td>0</td>\n",
       "      <td>3</td>\n",
       "      <td>6</td>\n",
       "      <td>0</td>\n",
       "      <td>0</td>\n",
       "      <td>...</td>\n",
       "      <td>0</td>\n",
       "      <td>0</td>\n",
       "      <td>0</td>\n",
       "      <td>4</td>\n",
       "      <td>0</td>\n",
       "      <td>0</td>\n",
       "      <td>1</td>\n",
       "      <td>0</td>\n",
       "      <td>1</td>\n",
       "      <td>0</td>\n",
       "    </tr>\n",
       "    <tr>\n",
       "      <th>1</th>\n",
       "      <td>dmp458034174</td>\n",
       "      <td>0</td>\n",
       "      <td>3</td>\n",
       "      <td>0</td>\n",
       "      <td>0</td>\n",
       "      <td>0</td>\n",
       "      <td>0</td>\n",
       "      <td>1</td>\n",
       "      <td>0</td>\n",
       "      <td>0</td>\n",
       "      <td>...</td>\n",
       "      <td>0</td>\n",
       "      <td>0</td>\n",
       "      <td>0</td>\n",
       "      <td>12</td>\n",
       "      <td>0</td>\n",
       "      <td>2</td>\n",
       "      <td>2</td>\n",
       "      <td>12</td>\n",
       "      <td>0</td>\n",
       "      <td>0</td>\n",
       "    </tr>\n",
       "    <tr>\n",
       "      <th>2</th>\n",
       "      <td>dmp364043571</td>\n",
       "      <td>0</td>\n",
       "      <td>2</td>\n",
       "      <td>0</td>\n",
       "      <td>0</td>\n",
       "      <td>0</td>\n",
       "      <td>0</td>\n",
       "      <td>0</td>\n",
       "      <td>0</td>\n",
       "      <td>2</td>\n",
       "      <td>...</td>\n",
       "      <td>0</td>\n",
       "      <td>0</td>\n",
       "      <td>0</td>\n",
       "      <td>11</td>\n",
       "      <td>0</td>\n",
       "      <td>0</td>\n",
       "      <td>0</td>\n",
       "      <td>0</td>\n",
       "      <td>0</td>\n",
       "      <td>0</td>\n",
       "    </tr>\n",
       "    <tr>\n",
       "      <th>3</th>\n",
       "      <td>dmp461339655</td>\n",
       "      <td>0</td>\n",
       "      <td>0</td>\n",
       "      <td>0</td>\n",
       "      <td>0</td>\n",
       "      <td>0</td>\n",
       "      <td>0</td>\n",
       "      <td>0</td>\n",
       "      <td>0</td>\n",
       "      <td>0</td>\n",
       "      <td>...</td>\n",
       "      <td>0</td>\n",
       "      <td>0</td>\n",
       "      <td>0</td>\n",
       "      <td>6</td>\n",
       "      <td>0</td>\n",
       "      <td>0</td>\n",
       "      <td>0</td>\n",
       "      <td>22</td>\n",
       "      <td>0</td>\n",
       "      <td>0</td>\n",
       "    </tr>\n",
       "    <tr>\n",
       "      <th>4</th>\n",
       "      <td>dmp549691332</td>\n",
       "      <td>0</td>\n",
       "      <td>0</td>\n",
       "      <td>0</td>\n",
       "      <td>0</td>\n",
       "      <td>0</td>\n",
       "      <td>5</td>\n",
       "      <td>7</td>\n",
       "      <td>0</td>\n",
       "      <td>0</td>\n",
       "      <td>...</td>\n",
       "      <td>0</td>\n",
       "      <td>0</td>\n",
       "      <td>1</td>\n",
       "      <td>0</td>\n",
       "      <td>0</td>\n",
       "      <td>0</td>\n",
       "      <td>1</td>\n",
       "      <td>0</td>\n",
       "      <td>0</td>\n",
       "      <td>0</td>\n",
       "    </tr>\n",
       "  </tbody>\n",
       "</table>\n",
       "<p>5 rows × 83 columns</p>\n",
       "</div>"
      ],
      "text/plain": [
       "     Unnamed: 0  Addthis  Bebo  Blogcatalog  Blogger  Buddymedia  Cnet  \\\n",
       "0  dmp923122274        0     0            2        0           0     3   \n",
       "1  dmp458034174        0     3            0        0           0     0   \n",
       "2  dmp364043571        0     2            0        0           0     0   \n",
       "3  dmp461339655        0     0            0        0           0     0   \n",
       "4  dmp549691332        0     0            0        0           0     5   \n",
       "\n",
       "   Conduit  Customerlobby  Delicious  ...  Vimeo Vocus  Wetpaint  Wordpress  \\\n",
       "0        6              0          0  ...      0     0         0          4   \n",
       "1        1              0          0  ...      0     0         0         12   \n",
       "2        0              0          2  ...      0     0         0         11   \n",
       "3        0              0          0  ...      0     0         0          6   \n",
       "4        7              0          0  ...      0     0         1          0   \n",
       "\n",
       "   Xanga  Yelp  Yfrog  Youtube  Yuku  Click  \n",
       "0      0     0      1        0     1      0  \n",
       "1      0     2      2       12     0      0  \n",
       "2      0     0      0        0     0      0  \n",
       "3      0     0      0       22     0      0  \n",
       "4      0     0      1        0     0      0  \n",
       "\n",
       "[5 rows x 83 columns]"
      ]
     },
     "execution_count": 3,
     "metadata": {},
     "output_type": "execute_result"
    }
   ],
   "source": [
    "#  inspect training dataset\n",
    "\n",
    "df.head()"
   ]
  },
  {
   "cell_type": "code",
   "execution_count": 4,
   "id": "1c7a41af",
   "metadata": {},
   "outputs": [
    {
     "data": {
      "text/html": [
       "<div>\n",
       "<style scoped>\n",
       "    .dataframe tbody tr th:only-of-type {\n",
       "        vertical-align: middle;\n",
       "    }\n",
       "\n",
       "    .dataframe tbody tr th {\n",
       "        vertical-align: top;\n",
       "    }\n",
       "\n",
       "    .dataframe thead th {\n",
       "        text-align: right;\n",
       "    }\n",
       "</style>\n",
       "<table border=\"1\" class=\"dataframe\">\n",
       "  <thead>\n",
       "    <tr style=\"text-align: right;\">\n",
       "      <th></th>\n",
       "      <th>Unnamed: 0</th>\n",
       "      <th>Addthis</th>\n",
       "      <th>Bebo</th>\n",
       "      <th>Blogcatalog</th>\n",
       "      <th>Blogger</th>\n",
       "      <th>Buddymedia</th>\n",
       "      <th>Cnet</th>\n",
       "      <th>Conduit</th>\n",
       "      <th>Customerlobby</th>\n",
       "      <th>Delicious</th>\n",
       "      <th>...</th>\n",
       "      <th>Viadeo</th>\n",
       "      <th>Vimeo</th>\n",
       "      <th>Vocus</th>\n",
       "      <th>Wetpaint</th>\n",
       "      <th>Wordpress</th>\n",
       "      <th>Xanga</th>\n",
       "      <th>Yelp</th>\n",
       "      <th>Yfrog</th>\n",
       "      <th>Youtube</th>\n",
       "      <th>Yuku</th>\n",
       "    </tr>\n",
       "  </thead>\n",
       "  <tbody>\n",
       "    <tr>\n",
       "      <th>0</th>\n",
       "      <td>dmp813626769</td>\n",
       "      <td>0</td>\n",
       "      <td>0</td>\n",
       "      <td>0</td>\n",
       "      <td>10</td>\n",
       "      <td>0</td>\n",
       "      <td>0</td>\n",
       "      <td>0</td>\n",
       "      <td>0</td>\n",
       "      <td>1</td>\n",
       "      <td>...</td>\n",
       "      <td>0</td>\n",
       "      <td>1</td>\n",
       "      <td>0</td>\n",
       "      <td>0</td>\n",
       "      <td>0</td>\n",
       "      <td>3</td>\n",
       "      <td>0</td>\n",
       "      <td>1</td>\n",
       "      <td>0</td>\n",
       "      <td>0</td>\n",
       "    </tr>\n",
       "    <tr>\n",
       "      <th>1</th>\n",
       "      <td>dmp752138753</td>\n",
       "      <td>0</td>\n",
       "      <td>0</td>\n",
       "      <td>0</td>\n",
       "      <td>0</td>\n",
       "      <td>0</td>\n",
       "      <td>0</td>\n",
       "      <td>0</td>\n",
       "      <td>0</td>\n",
       "      <td>0</td>\n",
       "      <td>...</td>\n",
       "      <td>0</td>\n",
       "      <td>0</td>\n",
       "      <td>0</td>\n",
       "      <td>0</td>\n",
       "      <td>0</td>\n",
       "      <td>1</td>\n",
       "      <td>1</td>\n",
       "      <td>2</td>\n",
       "      <td>6</td>\n",
       "      <td>0</td>\n",
       "    </tr>\n",
       "    <tr>\n",
       "      <th>2</th>\n",
       "      <td>dmp646269971</td>\n",
       "      <td>3</td>\n",
       "      <td>0</td>\n",
       "      <td>3</td>\n",
       "      <td>0</td>\n",
       "      <td>0</td>\n",
       "      <td>0</td>\n",
       "      <td>0</td>\n",
       "      <td>0</td>\n",
       "      <td>1</td>\n",
       "      <td>...</td>\n",
       "      <td>0</td>\n",
       "      <td>0</td>\n",
       "      <td>0</td>\n",
       "      <td>0</td>\n",
       "      <td>0</td>\n",
       "      <td>2</td>\n",
       "      <td>0</td>\n",
       "      <td>2</td>\n",
       "      <td>0</td>\n",
       "      <td>0</td>\n",
       "    </tr>\n",
       "    <tr>\n",
       "      <th>3</th>\n",
       "      <td>dmp261229437</td>\n",
       "      <td>0</td>\n",
       "      <td>0</td>\n",
       "      <td>0</td>\n",
       "      <td>8</td>\n",
       "      <td>0</td>\n",
       "      <td>0</td>\n",
       "      <td>0</td>\n",
       "      <td>0</td>\n",
       "      <td>0</td>\n",
       "      <td>...</td>\n",
       "      <td>0</td>\n",
       "      <td>0</td>\n",
       "      <td>0</td>\n",
       "      <td>0</td>\n",
       "      <td>0</td>\n",
       "      <td>0</td>\n",
       "      <td>0</td>\n",
       "      <td>2</td>\n",
       "      <td>7</td>\n",
       "      <td>0</td>\n",
       "    </tr>\n",
       "    <tr>\n",
       "      <th>4</th>\n",
       "      <td>dmp881635703</td>\n",
       "      <td>0</td>\n",
       "      <td>0</td>\n",
       "      <td>0</td>\n",
       "      <td>0</td>\n",
       "      <td>0</td>\n",
       "      <td>3</td>\n",
       "      <td>0</td>\n",
       "      <td>0</td>\n",
       "      <td>0</td>\n",
       "      <td>...</td>\n",
       "      <td>0</td>\n",
       "      <td>0</td>\n",
       "      <td>0</td>\n",
       "      <td>0</td>\n",
       "      <td>4</td>\n",
       "      <td>2</td>\n",
       "      <td>2</td>\n",
       "      <td>1</td>\n",
       "      <td>13</td>\n",
       "      <td>2</td>\n",
       "    </tr>\n",
       "  </tbody>\n",
       "</table>\n",
       "<p>5 rows × 82 columns</p>\n",
       "</div>"
      ],
      "text/plain": [
       "     Unnamed: 0  Addthis  Bebo  Blogcatalog  Blogger  Buddymedia  Cnet  \\\n",
       "0  dmp813626769        0     0            0       10           0     0   \n",
       "1  dmp752138753        0     0            0        0           0     0   \n",
       "2  dmp646269971        3     0            3        0           0     0   \n",
       "3  dmp261229437        0     0            0        8           0     0   \n",
       "4  dmp881635703        0     0            0        0           0     3   \n",
       "\n",
       "   Conduit  Customerlobby  Delicious  ...  Viadeo  Vimeo  Vocus  Wetpaint  \\\n",
       "0        0              0          1  ...       0      1      0         0   \n",
       "1        0              0          0  ...       0      0      0         0   \n",
       "2        0              0          1  ...       0      0      0         0   \n",
       "3        0              0          0  ...       0      0      0         0   \n",
       "4        0              0          0  ...       0      0      0         0   \n",
       "\n",
       "   Wordpress  Xanga  Yelp  Yfrog  Youtube  Yuku  \n",
       "0          0      3     0      1        0     0  \n",
       "1          0      1     1      2        6     0  \n",
       "2          0      2     0      2        0     0  \n",
       "3          0      0     0      2        7     0  \n",
       "4          4      2     2      1       13     2  \n",
       "\n",
       "[5 rows x 82 columns]"
      ]
     },
     "execution_count": 4,
     "metadata": {},
     "output_type": "execute_result"
    }
   ],
   "source": [
    "#  inspect test dataset\n",
    "\n",
    "df_test.head()"
   ]
  },
  {
   "cell_type": "code",
   "execution_count": 5,
   "id": "757970dc",
   "metadata": {
    "scrolled": true
   },
   "outputs": [
    {
     "data": {
      "text/html": [
       "<div>\n",
       "<style scoped>\n",
       "    .dataframe tbody tr th:only-of-type {\n",
       "        vertical-align: middle;\n",
       "    }\n",
       "\n",
       "    .dataframe tbody tr th {\n",
       "        vertical-align: top;\n",
       "    }\n",
       "\n",
       "    .dataframe thead th {\n",
       "        text-align: right;\n",
       "    }\n",
       "</style>\n",
       "<table border=\"1\" class=\"dataframe\">\n",
       "  <thead>\n",
       "    <tr style=\"text-align: right;\">\n",
       "      <th></th>\n",
       "      <th>Website</th>\n",
       "      <th>Name</th>\n",
       "      <th>Category</th>\n",
       "      <th>Description</th>\n",
       "      <th>When to Use</th>\n",
       "    </tr>\n",
       "  </thead>\n",
       "  <tbody>\n",
       "    <tr>\n",
       "      <th>0</th>\n",
       "      <td>www.addthis.com</td>\n",
       "      <td>Addthis</td>\n",
       "      <td>Social Bookmarking</td>\n",
       "      <td>Helps website publishers and bloggers spread t...</td>\n",
       "      <td>Use on any web page that you would like users ...</td>\n",
       "    </tr>\n",
       "    <tr>\n",
       "      <th>1</th>\n",
       "      <td>www.bebo.com</td>\n",
       "      <td>Bebo</td>\n",
       "      <td>Social Networking</td>\n",
       "      <td>Bebo is a social networking site that connects...</td>\n",
       "      <td>Bebo connects your brand with influencers and ...</td>\n",
       "    </tr>\n",
       "    <tr>\n",
       "      <th>2</th>\n",
       "      <td>www.blogcatalog.com</td>\n",
       "      <td>Blogcatalog</td>\n",
       "      <td>Blog</td>\n",
       "      <td>One of the premiere social blog directories on...</td>\n",
       "      <td>If you want to promote your own blog or find b...</td>\n",
       "    </tr>\n",
       "    <tr>\n",
       "      <th>3</th>\n",
       "      <td>www.blogger.com</td>\n",
       "      <td>Blogger</td>\n",
       "      <td>Blog</td>\n",
       "      <td>Free, automated weblog publishing tool that se...</td>\n",
       "      <td>Research, express, communicate with customers ...</td>\n",
       "    </tr>\n",
       "    <tr>\n",
       "      <th>4</th>\n",
       "      <td>www.buddymedia.com</td>\n",
       "      <td>Buddymedia</td>\n",
       "      <td>Social Media Aggregator</td>\n",
       "      <td>The Buddy Media Platform empowers brands and a...</td>\n",
       "      <td>Launch, maintain and measure their social medi...</td>\n",
       "    </tr>\n",
       "  </tbody>\n",
       "</table>\n",
       "</div>"
      ],
      "text/plain": [
       "               Website         Name                 Category  \\\n",
       "0      www.addthis.com      Addthis       Social Bookmarking   \n",
       "1         www.bebo.com         Bebo        Social Networking   \n",
       "2  www.blogcatalog.com  Blogcatalog                     Blog   \n",
       "3      www.blogger.com      Blogger                     Blog   \n",
       "4   www.buddymedia.com   Buddymedia  Social Media Aggregator   \n",
       "\n",
       "                                         Description  \\\n",
       "0  Helps website publishers and bloggers spread t...   \n",
       "1  Bebo is a social networking site that connects...   \n",
       "2  One of the premiere social blog directories on...   \n",
       "3  Free, automated weblog publishing tool that se...   \n",
       "4  The Buddy Media Platform empowers brands and a...   \n",
       "\n",
       "                                         When to Use  \n",
       "0  Use on any web page that you would like users ...  \n",
       "1  Bebo connects your brand with influencers and ...  \n",
       "2  If you want to promote your own blog or find b...  \n",
       "3  Research, express, communicate with customers ...  \n",
       "4  Launch, maintain and measure their social medi...  "
      ]
     },
     "execution_count": 5,
     "metadata": {},
     "output_type": "execute_result"
    }
   ],
   "source": [
    "#inspect description data\n",
    "\n",
    "df_desc.head(5)"
   ]
  },
  {
   "cell_type": "markdown",
   "id": "67d4dc47",
   "metadata": {},
   "source": [
    "\"Unnamed: 0\" column in training data is needless for analysis and modlling so will be dropped"
   ]
  },
  {
   "cell_type": "code",
   "execution_count": 6,
   "id": "b6131fe4",
   "metadata": {
    "scrolled": true
   },
   "outputs": [
    {
     "data": {
      "text/html": [
       "<div>\n",
       "<style scoped>\n",
       "    .dataframe tbody tr th:only-of-type {\n",
       "        vertical-align: middle;\n",
       "    }\n",
       "\n",
       "    .dataframe tbody tr th {\n",
       "        vertical-align: top;\n",
       "    }\n",
       "\n",
       "    .dataframe thead th {\n",
       "        text-align: right;\n",
       "    }\n",
       "</style>\n",
       "<table border=\"1\" class=\"dataframe\">\n",
       "  <thead>\n",
       "    <tr style=\"text-align: right;\">\n",
       "      <th></th>\n",
       "      <th>Addthis</th>\n",
       "      <th>Bebo</th>\n",
       "      <th>Blogcatalog</th>\n",
       "      <th>Blogger</th>\n",
       "      <th>Buddymedia</th>\n",
       "      <th>Cnet</th>\n",
       "      <th>Conduit</th>\n",
       "      <th>Customerlobby</th>\n",
       "      <th>Delicious</th>\n",
       "      <th>Digg</th>\n",
       "      <th>...</th>\n",
       "      <th>Vimeo</th>\n",
       "      <th>Vocus</th>\n",
       "      <th>Wetpaint</th>\n",
       "      <th>Wordpress</th>\n",
       "      <th>Xanga</th>\n",
       "      <th>Yelp</th>\n",
       "      <th>Yfrog</th>\n",
       "      <th>Youtube</th>\n",
       "      <th>Yuku</th>\n",
       "      <th>Click</th>\n",
       "    </tr>\n",
       "  </thead>\n",
       "  <tbody>\n",
       "    <tr>\n",
       "      <th>0</th>\n",
       "      <td>0</td>\n",
       "      <td>0</td>\n",
       "      <td>2</td>\n",
       "      <td>0</td>\n",
       "      <td>0</td>\n",
       "      <td>3</td>\n",
       "      <td>6</td>\n",
       "      <td>0</td>\n",
       "      <td>0</td>\n",
       "      <td>0</td>\n",
       "      <td>...</td>\n",
       "      <td>0</td>\n",
       "      <td>0</td>\n",
       "      <td>0</td>\n",
       "      <td>4</td>\n",
       "      <td>0</td>\n",
       "      <td>0</td>\n",
       "      <td>1</td>\n",
       "      <td>0</td>\n",
       "      <td>1</td>\n",
       "      <td>0</td>\n",
       "    </tr>\n",
       "    <tr>\n",
       "      <th>1</th>\n",
       "      <td>0</td>\n",
       "      <td>3</td>\n",
       "      <td>0</td>\n",
       "      <td>0</td>\n",
       "      <td>0</td>\n",
       "      <td>0</td>\n",
       "      <td>1</td>\n",
       "      <td>0</td>\n",
       "      <td>0</td>\n",
       "      <td>0</td>\n",
       "      <td>...</td>\n",
       "      <td>0</td>\n",
       "      <td>0</td>\n",
       "      <td>0</td>\n",
       "      <td>12</td>\n",
       "      <td>0</td>\n",
       "      <td>2</td>\n",
       "      <td>2</td>\n",
       "      <td>12</td>\n",
       "      <td>0</td>\n",
       "      <td>0</td>\n",
       "    </tr>\n",
       "    <tr>\n",
       "      <th>2</th>\n",
       "      <td>0</td>\n",
       "      <td>2</td>\n",
       "      <td>0</td>\n",
       "      <td>0</td>\n",
       "      <td>0</td>\n",
       "      <td>0</td>\n",
       "      <td>0</td>\n",
       "      <td>0</td>\n",
       "      <td>2</td>\n",
       "      <td>0</td>\n",
       "      <td>...</td>\n",
       "      <td>0</td>\n",
       "      <td>0</td>\n",
       "      <td>0</td>\n",
       "      <td>11</td>\n",
       "      <td>0</td>\n",
       "      <td>0</td>\n",
       "      <td>0</td>\n",
       "      <td>0</td>\n",
       "      <td>0</td>\n",
       "      <td>0</td>\n",
       "    </tr>\n",
       "    <tr>\n",
       "      <th>3</th>\n",
       "      <td>0</td>\n",
       "      <td>0</td>\n",
       "      <td>0</td>\n",
       "      <td>0</td>\n",
       "      <td>0</td>\n",
       "      <td>0</td>\n",
       "      <td>0</td>\n",
       "      <td>0</td>\n",
       "      <td>0</td>\n",
       "      <td>0</td>\n",
       "      <td>...</td>\n",
       "      <td>0</td>\n",
       "      <td>0</td>\n",
       "      <td>0</td>\n",
       "      <td>6</td>\n",
       "      <td>0</td>\n",
       "      <td>0</td>\n",
       "      <td>0</td>\n",
       "      <td>22</td>\n",
       "      <td>0</td>\n",
       "      <td>0</td>\n",
       "    </tr>\n",
       "    <tr>\n",
       "      <th>4</th>\n",
       "      <td>0</td>\n",
       "      <td>0</td>\n",
       "      <td>0</td>\n",
       "      <td>0</td>\n",
       "      <td>0</td>\n",
       "      <td>5</td>\n",
       "      <td>7</td>\n",
       "      <td>0</td>\n",
       "      <td>0</td>\n",
       "      <td>5</td>\n",
       "      <td>...</td>\n",
       "      <td>0</td>\n",
       "      <td>0</td>\n",
       "      <td>1</td>\n",
       "      <td>0</td>\n",
       "      <td>0</td>\n",
       "      <td>0</td>\n",
       "      <td>1</td>\n",
       "      <td>0</td>\n",
       "      <td>0</td>\n",
       "      <td>0</td>\n",
       "    </tr>\n",
       "  </tbody>\n",
       "</table>\n",
       "<p>5 rows × 82 columns</p>\n",
       "</div>"
      ],
      "text/plain": [
       "   Addthis  Bebo  Blogcatalog  Blogger  Buddymedia  Cnet  Conduit  \\\n",
       "0        0     0            2        0           0     3        6   \n",
       "1        0     3            0        0           0     0        1   \n",
       "2        0     2            0        0           0     0        0   \n",
       "3        0     0            0        0           0     0        0   \n",
       "4        0     0            0        0           0     5        7   \n",
       "\n",
       "   Customerlobby  Delicious  Digg  ... Vimeo  Vocus  Wetpaint  Wordpress  \\\n",
       "0              0          0     0  ...     0      0         0          4   \n",
       "1              0          0     0  ...     0      0         0         12   \n",
       "2              0          2     0  ...     0      0         0         11   \n",
       "3              0          0     0  ...     0      0         0          6   \n",
       "4              0          0     5  ...     0      0         1          0   \n",
       "\n",
       "   Xanga  Yelp  Yfrog  Youtube  Yuku  Click  \n",
       "0      0     0      1        0     1      0  \n",
       "1      0     2      2       12     0      0  \n",
       "2      0     0      0        0     0      0  \n",
       "3      0     0      0       22     0      0  \n",
       "4      0     0      1        0     0      0  \n",
       "\n",
       "[5 rows x 82 columns]"
      ]
     },
     "execution_count": 6,
     "metadata": {},
     "output_type": "execute_result"
    }
   ],
   "source": [
    "#drop 'Unnamed: 0' column\n",
    "\n",
    "df.drop(['Unnamed: 0'], axis=1, inplace=True)\n",
    "df.head()"
   ]
  },
  {
   "cell_type": "code",
   "execution_count": 7,
   "id": "7f14b68d",
   "metadata": {},
   "outputs": [
    {
     "data": {
      "text/html": [
       "<div>\n",
       "<style scoped>\n",
       "    .dataframe tbody tr th:only-of-type {\n",
       "        vertical-align: middle;\n",
       "    }\n",
       "\n",
       "    .dataframe tbody tr th {\n",
       "        vertical-align: top;\n",
       "    }\n",
       "\n",
       "    .dataframe thead th {\n",
       "        text-align: right;\n",
       "    }\n",
       "</style>\n",
       "<table border=\"1\" class=\"dataframe\">\n",
       "  <thead>\n",
       "    <tr style=\"text-align: right;\">\n",
       "      <th></th>\n",
       "      <th>Addthis</th>\n",
       "      <th>Bebo</th>\n",
       "      <th>Blogcatalog</th>\n",
       "      <th>Blogger</th>\n",
       "      <th>Buddymedia</th>\n",
       "      <th>Cnet</th>\n",
       "      <th>Conduit</th>\n",
       "      <th>Customerlobby</th>\n",
       "      <th>Delicious</th>\n",
       "      <th>Digg</th>\n",
       "      <th>...</th>\n",
       "      <th>Vimeo</th>\n",
       "      <th>Vocus</th>\n",
       "      <th>Wetpaint</th>\n",
       "      <th>Wordpress</th>\n",
       "      <th>Xanga</th>\n",
       "      <th>Yelp</th>\n",
       "      <th>Yfrog</th>\n",
       "      <th>Youtube</th>\n",
       "      <th>Yuku</th>\n",
       "      <th>Click</th>\n",
       "    </tr>\n",
       "  </thead>\n",
       "  <tbody>\n",
       "    <tr>\n",
       "      <th>count</th>\n",
       "      <td>10000.00000</td>\n",
       "      <td>10000.00000</td>\n",
       "      <td>10000.000000</td>\n",
       "      <td>10000.000000</td>\n",
       "      <td>10000.0</td>\n",
       "      <td>10000.000000</td>\n",
       "      <td>10000.000000</td>\n",
       "      <td>10000.000000</td>\n",
       "      <td>10000.000000</td>\n",
       "      <td>10000.000000</td>\n",
       "      <td>...</td>\n",
       "      <td>10000.00000</td>\n",
       "      <td>10000.000000</td>\n",
       "      <td>10000.000000</td>\n",
       "      <td>10000.000000</td>\n",
       "      <td>10000.000000</td>\n",
       "      <td>10000.000000</td>\n",
       "      <td>10000.000000</td>\n",
       "      <td>10000.000000</td>\n",
       "      <td>10000.000000</td>\n",
       "      <td>10000.000000</td>\n",
       "    </tr>\n",
       "    <tr>\n",
       "      <th>mean</th>\n",
       "      <td>0.42250</td>\n",
       "      <td>0.78130</td>\n",
       "      <td>0.568100</td>\n",
       "      <td>2.823700</td>\n",
       "      <td>0.0</td>\n",
       "      <td>1.950400</td>\n",
       "      <td>2.142100</td>\n",
       "      <td>0.000200</td>\n",
       "      <td>0.393100</td>\n",
       "      <td>1.012700</td>\n",
       "      <td>...</td>\n",
       "      <td>0.41190</td>\n",
       "      <td>0.040200</td>\n",
       "      <td>0.293600</td>\n",
       "      <td>2.176900</td>\n",
       "      <td>0.459500</td>\n",
       "      <td>0.602200</td>\n",
       "      <td>0.380800</td>\n",
       "      <td>6.040600</td>\n",
       "      <td>0.206600</td>\n",
       "      <td>0.123400</td>\n",
       "    </tr>\n",
       "    <tr>\n",
       "      <th>std</th>\n",
       "      <td>1.01405</td>\n",
       "      <td>1.48899</td>\n",
       "      <td>1.197709</td>\n",
       "      <td>5.571438</td>\n",
       "      <td>0.0</td>\n",
       "      <td>2.937619</td>\n",
       "      <td>3.293993</td>\n",
       "      <td>0.014141</td>\n",
       "      <td>0.811319</td>\n",
       "      <td>2.266021</td>\n",
       "      <td>...</td>\n",
       "      <td>1.00436</td>\n",
       "      <td>0.196438</td>\n",
       "      <td>0.612402</td>\n",
       "      <td>3.691879</td>\n",
       "      <td>0.982169</td>\n",
       "      <td>1.194696</td>\n",
       "      <td>0.755413</td>\n",
       "      <td>7.892679</td>\n",
       "      <td>0.588856</td>\n",
       "      <td>0.328912</td>\n",
       "    </tr>\n",
       "    <tr>\n",
       "      <th>min</th>\n",
       "      <td>0.00000</td>\n",
       "      <td>0.00000</td>\n",
       "      <td>0.000000</td>\n",
       "      <td>0.000000</td>\n",
       "      <td>0.0</td>\n",
       "      <td>0.000000</td>\n",
       "      <td>0.000000</td>\n",
       "      <td>0.000000</td>\n",
       "      <td>0.000000</td>\n",
       "      <td>0.000000</td>\n",
       "      <td>...</td>\n",
       "      <td>0.00000</td>\n",
       "      <td>0.000000</td>\n",
       "      <td>0.000000</td>\n",
       "      <td>0.000000</td>\n",
       "      <td>0.000000</td>\n",
       "      <td>0.000000</td>\n",
       "      <td>0.000000</td>\n",
       "      <td>0.000000</td>\n",
       "      <td>0.000000</td>\n",
       "      <td>0.000000</td>\n",
       "    </tr>\n",
       "    <tr>\n",
       "      <th>25%</th>\n",
       "      <td>0.00000</td>\n",
       "      <td>0.00000</td>\n",
       "      <td>0.000000</td>\n",
       "      <td>0.000000</td>\n",
       "      <td>0.0</td>\n",
       "      <td>0.000000</td>\n",
       "      <td>0.000000</td>\n",
       "      <td>0.000000</td>\n",
       "      <td>0.000000</td>\n",
       "      <td>0.000000</td>\n",
       "      <td>...</td>\n",
       "      <td>0.00000</td>\n",
       "      <td>0.000000</td>\n",
       "      <td>0.000000</td>\n",
       "      <td>0.000000</td>\n",
       "      <td>0.000000</td>\n",
       "      <td>0.000000</td>\n",
       "      <td>0.000000</td>\n",
       "      <td>0.000000</td>\n",
       "      <td>0.000000</td>\n",
       "      <td>0.000000</td>\n",
       "    </tr>\n",
       "    <tr>\n",
       "      <th>50%</th>\n",
       "      <td>0.00000</td>\n",
       "      <td>0.00000</td>\n",
       "      <td>0.000000</td>\n",
       "      <td>0.000000</td>\n",
       "      <td>0.0</td>\n",
       "      <td>0.000000</td>\n",
       "      <td>0.000000</td>\n",
       "      <td>0.000000</td>\n",
       "      <td>0.000000</td>\n",
       "      <td>0.000000</td>\n",
       "      <td>...</td>\n",
       "      <td>0.00000</td>\n",
       "      <td>0.000000</td>\n",
       "      <td>0.000000</td>\n",
       "      <td>0.000000</td>\n",
       "      <td>0.000000</td>\n",
       "      <td>0.000000</td>\n",
       "      <td>0.000000</td>\n",
       "      <td>0.000000</td>\n",
       "      <td>0.000000</td>\n",
       "      <td>0.000000</td>\n",
       "    </tr>\n",
       "    <tr>\n",
       "      <th>75%</th>\n",
       "      <td>0.00000</td>\n",
       "      <td>1.00000</td>\n",
       "      <td>0.000000</td>\n",
       "      <td>0.000000</td>\n",
       "      <td>0.0</td>\n",
       "      <td>4.000000</td>\n",
       "      <td>4.000000</td>\n",
       "      <td>0.000000</td>\n",
       "      <td>0.000000</td>\n",
       "      <td>0.000000</td>\n",
       "      <td>...</td>\n",
       "      <td>0.00000</td>\n",
       "      <td>0.000000</td>\n",
       "      <td>0.000000</td>\n",
       "      <td>4.000000</td>\n",
       "      <td>0.000000</td>\n",
       "      <td>0.000000</td>\n",
       "      <td>0.000000</td>\n",
       "      <td>12.000000</td>\n",
       "      <td>0.000000</td>\n",
       "      <td>0.000000</td>\n",
       "    </tr>\n",
       "    <tr>\n",
       "      <th>max</th>\n",
       "      <td>6.00000</td>\n",
       "      <td>8.00000</td>\n",
       "      <td>7.000000</td>\n",
       "      <td>28.000000</td>\n",
       "      <td>0.0</td>\n",
       "      <td>15.000000</td>\n",
       "      <td>16.000000</td>\n",
       "      <td>1.000000</td>\n",
       "      <td>4.000000</td>\n",
       "      <td>13.000000</td>\n",
       "      <td>...</td>\n",
       "      <td>7.00000</td>\n",
       "      <td>1.000000</td>\n",
       "      <td>3.000000</td>\n",
       "      <td>19.000000</td>\n",
       "      <td>5.000000</td>\n",
       "      <td>7.000000</td>\n",
       "      <td>4.000000</td>\n",
       "      <td>36.000000</td>\n",
       "      <td>4.000000</td>\n",
       "      <td>1.000000</td>\n",
       "    </tr>\n",
       "  </tbody>\n",
       "</table>\n",
       "<p>8 rows × 81 columns</p>\n",
       "</div>"
      ],
      "text/plain": [
       "           Addthis         Bebo   Blogcatalog       Blogger  Buddymedia  \\\n",
       "count  10000.00000  10000.00000  10000.000000  10000.000000     10000.0   \n",
       "mean       0.42250      0.78130      0.568100      2.823700         0.0   \n",
       "std        1.01405      1.48899      1.197709      5.571438         0.0   \n",
       "min        0.00000      0.00000      0.000000      0.000000         0.0   \n",
       "25%        0.00000      0.00000      0.000000      0.000000         0.0   \n",
       "50%        0.00000      0.00000      0.000000      0.000000         0.0   \n",
       "75%        0.00000      1.00000      0.000000      0.000000         0.0   \n",
       "max        6.00000      8.00000      7.000000     28.000000         0.0   \n",
       "\n",
       "               Cnet       Conduit  Customerlobby     Delicious          Digg  \\\n",
       "count  10000.000000  10000.000000   10000.000000  10000.000000  10000.000000   \n",
       "mean       1.950400      2.142100       0.000200      0.393100      1.012700   \n",
       "std        2.937619      3.293993       0.014141      0.811319      2.266021   \n",
       "min        0.000000      0.000000       0.000000      0.000000      0.000000   \n",
       "25%        0.000000      0.000000       0.000000      0.000000      0.000000   \n",
       "50%        0.000000      0.000000       0.000000      0.000000      0.000000   \n",
       "75%        4.000000      4.000000       0.000000      0.000000      0.000000   \n",
       "max       15.000000     16.000000       1.000000      4.000000     13.000000   \n",
       "\n",
       "       ...        Vimeo         Vocus      Wetpaint     Wordpress  \\\n",
       "count  ...  10000.00000  10000.000000  10000.000000  10000.000000   \n",
       "mean   ...      0.41190      0.040200      0.293600      2.176900   \n",
       "std    ...      1.00436      0.196438      0.612402      3.691879   \n",
       "min    ...      0.00000      0.000000      0.000000      0.000000   \n",
       "25%    ...      0.00000      0.000000      0.000000      0.000000   \n",
       "50%    ...      0.00000      0.000000      0.000000      0.000000   \n",
       "75%    ...      0.00000      0.000000      0.000000      4.000000   \n",
       "max    ...      7.00000      1.000000      3.000000     19.000000   \n",
       "\n",
       "              Xanga          Yelp         Yfrog       Youtube          Yuku  \\\n",
       "count  10000.000000  10000.000000  10000.000000  10000.000000  10000.000000   \n",
       "mean       0.459500      0.602200      0.380800      6.040600      0.206600   \n",
       "std        0.982169      1.194696      0.755413      7.892679      0.588856   \n",
       "min        0.000000      0.000000      0.000000      0.000000      0.000000   \n",
       "25%        0.000000      0.000000      0.000000      0.000000      0.000000   \n",
       "50%        0.000000      0.000000      0.000000      0.000000      0.000000   \n",
       "75%        0.000000      0.000000      0.000000     12.000000      0.000000   \n",
       "max        5.000000      7.000000      4.000000     36.000000      4.000000   \n",
       "\n",
       "              Click  \n",
       "count  10000.000000  \n",
       "mean       0.123400  \n",
       "std        0.328912  \n",
       "min        0.000000  \n",
       "25%        0.000000  \n",
       "50%        0.000000  \n",
       "75%        0.000000  \n",
       "max        1.000000  \n",
       "\n",
       "[8 rows x 81 columns]"
      ]
     },
     "execution_count": 7,
     "metadata": {},
     "output_type": "execute_result"
    }
   ],
   "source": [
    "# Briefly inspect description of training data\n",
    "\n",
    "df.describe()"
   ]
  },
  {
   "cell_type": "code",
   "execution_count": 8,
   "id": "3db8b752",
   "metadata": {},
   "outputs": [],
   "source": [
    "# Create a new column called 'Total impressions' that sums up all impressions made by each user\n",
    "# This is needed for a brief data inspection and later during the EDA process\n",
    "\n",
    "df['Total impressions']= df.drop(['Click'], axis=1).sum(axis=1)"
   ]
  },
  {
   "cell_type": "code",
   "execution_count": 9,
   "id": "952ff027",
   "metadata": {
    "scrolled": false
   },
   "outputs": [
    {
     "data": {
      "text/plain": [
       "count    1.000000e+04\n",
       "mean     9.637296e+06\n",
       "std      9.637237e+08\n",
       "min      6.000000e+00\n",
       "25%      4.600000e+01\n",
       "50%      5.800000e+01\n",
       "75%      7.200000e+01\n",
       "max      9.637237e+10\n",
       "Name: Total impressions, dtype: float64"
      ]
     },
     "execution_count": 9,
     "metadata": {},
     "output_type": "execute_result"
    }
   ],
   "source": [
    "# Have a quick descriptive summary on the total engagements made by users\n",
    "\n",
    "df['Total impressions'].describe()"
   ]
  },
  {
   "cell_type": "markdown",
   "id": "cfcc3184",
   "metadata": {},
   "source": [
    "This shows that a max of 9.637237e+10 which is unrealistic for a user in the time frame this is handled below"
   ]
  },
  {
   "cell_type": "markdown",
   "id": "f7e7cc68",
   "metadata": {},
   "source": [
    "### Outlier handling"
   ]
  },
  {
   "cell_type": "code",
   "execution_count": 10,
   "id": "e3ad80d2",
   "metadata": {},
   "outputs": [
    {
     "data": {
      "text/plain": [
       "Text(0, 0.5, 'Total impressions')"
      ]
     },
     "execution_count": 10,
     "metadata": {},
     "output_type": "execute_result"
    },
    {
     "data": {
      "image/png": "[encoded data removed]",
      "text/plain": [
       "<Figure size 576x432 with 1 Axes>"
      ]
     },
     "metadata": {
      "needs_background": "light"
     },
     "output_type": "display_data"
    }
   ],
   "source": [
    "#Visually examine outlier\n",
    "\n",
    "plt.figure(figsize = (8, 6))\n",
    "sns.boxplot(x = df['Click'], y = df['Total impressions'])\n",
    "plt.title(\"Click and total impressions\")\n",
    "plt.xlabel(\"Click\")\n",
    "plt.ylabel('Total impressions')"
   ]
  },
  {
   "cell_type": "markdown",
   "id": "2a11f87c",
   "metadata": {},
   "source": [
    "A look at the plot shows that outlier is a single data point which is far fro the remaining data"
   ]
  },
  {
   "cell_type": "code",
   "execution_count": 11,
   "id": "7c243685",
   "metadata": {},
   "outputs": [
    {
     "data": {
      "text/html": [
       "<div>\n",
       "<style scoped>\n",
       "    .dataframe tbody tr th:only-of-type {\n",
       "        vertical-align: middle;\n",
       "    }\n",
       "\n",
       "    .dataframe tbody tr th {\n",
       "        vertical-align: top;\n",
       "    }\n",
       "\n",
       "    .dataframe thead th {\n",
       "        text-align: right;\n",
       "    }\n",
       "</style>\n",
       "<table border=\"1\" class=\"dataframe\">\n",
       "  <thead>\n",
       "    <tr style=\"text-align: right;\">\n",
       "      <th></th>\n",
       "      <th>Addthis</th>\n",
       "      <th>Bebo</th>\n",
       "      <th>Blogcatalog</th>\n",
       "      <th>Blogger</th>\n",
       "      <th>Buddymedia</th>\n",
       "      <th>Cnet</th>\n",
       "      <th>Conduit</th>\n",
       "      <th>Customerlobby</th>\n",
       "      <th>Delicious</th>\n",
       "      <th>Digg</th>\n",
       "      <th>...</th>\n",
       "      <th>Vocus</th>\n",
       "      <th>Wetpaint</th>\n",
       "      <th>Wordpress</th>\n",
       "      <th>Xanga</th>\n",
       "      <th>Yelp</th>\n",
       "      <th>Yfrog</th>\n",
       "      <th>Youtube</th>\n",
       "      <th>Yuku</th>\n",
       "      <th>Click</th>\n",
       "      <th>Total impressions</th>\n",
       "    </tr>\n",
       "  </thead>\n",
       "  <tbody>\n",
       "    <tr>\n",
       "      <th>7864</th>\n",
       "      <td>0</td>\n",
       "      <td>0</td>\n",
       "      <td>0</td>\n",
       "      <td>8</td>\n",
       "      <td>0</td>\n",
       "      <td>0</td>\n",
       "      <td>0</td>\n",
       "      <td>0</td>\n",
       "      <td>0</td>\n",
       "      <td>0</td>\n",
       "      <td>...</td>\n",
       "      <td>0</td>\n",
       "      <td>0</td>\n",
       "      <td>0</td>\n",
       "      <td>1</td>\n",
       "      <td>0</td>\n",
       "      <td>2</td>\n",
       "      <td>20</td>\n",
       "      <td>0</td>\n",
       "      <td>0</td>\n",
       "      <td>96372367695</td>\n",
       "    </tr>\n",
       "  </tbody>\n",
       "</table>\n",
       "<p>1 rows × 83 columns</p>\n",
       "</div>"
      ],
      "text/plain": [
       "      Addthis  Bebo  Blogcatalog  Blogger  Buddymedia  Cnet  Conduit  \\\n",
       "7864        0     0            0        8           0     0        0   \n",
       "\n",
       "      Customerlobby  Delicious  Digg  ... Vocus  Wetpaint  Wordpress  Xanga  \\\n",
       "7864              0          0     0  ...     0         0          0      1   \n",
       "\n",
       "      Yelp  Yfrog  Youtube  Yuku  Click  Total impressions  \n",
       "7864     0      2       20     0      0        96372367695  \n",
       "\n",
       "[1 rows x 83 columns]"
      ]
     },
     "execution_count": 11,
     "metadata": {},
     "output_type": "execute_result"
    }
   ],
   "source": [
    "# View data with 'Total impressions'] > 1000\n",
    "df[df['Total impressions'] > 1000]"
   ]
  },
  {
   "cell_type": "markdown",
   "id": "b40380c4",
   "metadata": {},
   "source": [
    "This shows that user 7864 has over 96 billion impressions. This is unrealistic and most likely a data entry error"
   ]
  },
  {
   "cell_type": "code",
   "execution_count": 12,
   "id": "4cf9e89a",
   "metadata": {},
   "outputs": [],
   "source": [
    "# Drop the row with index  = 7864\n",
    "\n",
    "df = df.drop(df[df['Total impressions'] >500].index)"
   ]
  },
  {
   "cell_type": "code",
   "execution_count": 13,
   "id": "fc130a97",
   "metadata": {
    "scrolled": true
   },
   "outputs": [
    {
     "data": {
      "text/plain": [
       "Text(0, 0.5, 'Total impressions')"
      ]
     },
     "execution_count": 13,
     "metadata": {},
     "output_type": "execute_result"
    },
    {
     "data": {
      "image/png": "[encoded data removed]",
      "text/plain": [
       "<Figure size 576x432 with 1 Axes>"
      ]
     },
     "metadata": {
      "needs_background": "light"
     },
     "output_type": "display_data"
    }
   ],
   "source": [
    "# Further Visual examination of outlier\n",
    "\n",
    "plt.figure(figsize = (8, 6))\n",
    "sns.boxplot(x = df['Click'], y = df['Total impressions'])\n",
    "plt.title(\"Click and total impressions\")\n",
    "plt.xlabel(\"Click\")\n",
    "plt.ylabel('Total impressions')"
   ]
  },
  {
   "cell_type": "markdown",
   "id": "aac6f83f",
   "metadata": {},
   "source": [
    "A few outliers are seen outside the interquartile range but this is within a realistic range so wont be discarded. They may play an important part in better understanding the data and having a realistic model."
   ]
  },
  {
   "cell_type": "code",
   "execution_count": 14,
   "id": "0a43e6f1",
   "metadata": {},
   "outputs": [
    {
     "data": {
      "text/html": [
       "<div>\n",
       "<style scoped>\n",
       "    .dataframe tbody tr th:only-of-type {\n",
       "        vertical-align: middle;\n",
       "    }\n",
       "\n",
       "    .dataframe tbody tr th {\n",
       "        vertical-align: top;\n",
       "    }\n",
       "\n",
       "    .dataframe thead th {\n",
       "        text-align: right;\n",
       "    }\n",
       "</style>\n",
       "<table border=\"1\" class=\"dataframe\">\n",
       "  <thead>\n",
       "    <tr style=\"text-align: right;\">\n",
       "      <th></th>\n",
       "      <th>count</th>\n",
       "      <th>mean</th>\n",
       "      <th>std</th>\n",
       "      <th>min</th>\n",
       "      <th>25%</th>\n",
       "      <th>50%</th>\n",
       "      <th>75%</th>\n",
       "      <th>max</th>\n",
       "    </tr>\n",
       "  </thead>\n",
       "  <tbody>\n",
       "    <tr>\n",
       "      <th>Addthis</th>\n",
       "      <td>9999.0</td>\n",
       "      <td>0.422542</td>\n",
       "      <td>1.014092</td>\n",
       "      <td>0.0</td>\n",
       "      <td>0.0</td>\n",
       "      <td>0.0</td>\n",
       "      <td>0.0</td>\n",
       "      <td>6.0</td>\n",
       "    </tr>\n",
       "    <tr>\n",
       "      <th>Bebo</th>\n",
       "      <td>9999.0</td>\n",
       "      <td>0.781378</td>\n",
       "      <td>1.489044</td>\n",
       "      <td>0.0</td>\n",
       "      <td>0.0</td>\n",
       "      <td>0.0</td>\n",
       "      <td>1.0</td>\n",
       "      <td>8.0</td>\n",
       "    </tr>\n",
       "    <tr>\n",
       "      <th>Blogcatalog</th>\n",
       "      <td>9999.0</td>\n",
       "      <td>0.568157</td>\n",
       "      <td>1.197755</td>\n",
       "      <td>0.0</td>\n",
       "      <td>0.0</td>\n",
       "      <td>0.0</td>\n",
       "      <td>0.0</td>\n",
       "      <td>7.0</td>\n",
       "    </tr>\n",
       "    <tr>\n",
       "      <th>Blogger</th>\n",
       "      <td>9999.0</td>\n",
       "      <td>2.823182</td>\n",
       "      <td>5.571476</td>\n",
       "      <td>0.0</td>\n",
       "      <td>0.0</td>\n",
       "      <td>0.0</td>\n",
       "      <td>0.0</td>\n",
       "      <td>28.0</td>\n",
       "    </tr>\n",
       "    <tr>\n",
       "      <th>Buddymedia</th>\n",
       "      <td>9999.0</td>\n",
       "      <td>0.000000</td>\n",
       "      <td>0.000000</td>\n",
       "      <td>0.0</td>\n",
       "      <td>0.0</td>\n",
       "      <td>0.0</td>\n",
       "      <td>0.0</td>\n",
       "      <td>0.0</td>\n",
       "    </tr>\n",
       "    <tr>\n",
       "      <th>...</th>\n",
       "      <td>...</td>\n",
       "      <td>...</td>\n",
       "      <td>...</td>\n",
       "      <td>...</td>\n",
       "      <td>...</td>\n",
       "      <td>...</td>\n",
       "      <td>...</td>\n",
       "      <td>...</td>\n",
       "    </tr>\n",
       "    <tr>\n",
       "      <th>Yfrog</th>\n",
       "      <td>9999.0</td>\n",
       "      <td>0.380638</td>\n",
       "      <td>0.755277</td>\n",
       "      <td>0.0</td>\n",
       "      <td>0.0</td>\n",
       "      <td>0.0</td>\n",
       "      <td>0.0</td>\n",
       "      <td>4.0</td>\n",
       "    </tr>\n",
       "    <tr>\n",
       "      <th>Youtube</th>\n",
       "      <td>9999.0</td>\n",
       "      <td>6.039204</td>\n",
       "      <td>7.891839</td>\n",
       "      <td>0.0</td>\n",
       "      <td>0.0</td>\n",
       "      <td>0.0</td>\n",
       "      <td>12.0</td>\n",
       "      <td>36.0</td>\n",
       "    </tr>\n",
       "    <tr>\n",
       "      <th>Yuku</th>\n",
       "      <td>9999.0</td>\n",
       "      <td>0.206621</td>\n",
       "      <td>0.588882</td>\n",
       "      <td>0.0</td>\n",
       "      <td>0.0</td>\n",
       "      <td>0.0</td>\n",
       "      <td>0.0</td>\n",
       "      <td>4.0</td>\n",
       "    </tr>\n",
       "    <tr>\n",
       "      <th>Click</th>\n",
       "      <td>9999.0</td>\n",
       "      <td>0.123412</td>\n",
       "      <td>0.328926</td>\n",
       "      <td>0.0</td>\n",
       "      <td>0.0</td>\n",
       "      <td>0.0</td>\n",
       "      <td>0.0</td>\n",
       "      <td>1.0</td>\n",
       "    </tr>\n",
       "    <tr>\n",
       "      <th>Total impressions</th>\n",
       "      <td>9999.0</td>\n",
       "      <td>59.259626</td>\n",
       "      <td>18.922823</td>\n",
       "      <td>6.0</td>\n",
       "      <td>46.0</td>\n",
       "      <td>58.0</td>\n",
       "      <td>72.0</td>\n",
       "      <td>128.0</td>\n",
       "    </tr>\n",
       "  </tbody>\n",
       "</table>\n",
       "<p>82 rows × 8 columns</p>\n",
       "</div>"
      ],
      "text/plain": [
       "                    count       mean        std  min   25%   50%   75%    max\n",
       "Addthis            9999.0   0.422542   1.014092  0.0   0.0   0.0   0.0    6.0\n",
       "Bebo               9999.0   0.781378   1.489044  0.0   0.0   0.0   1.0    8.0\n",
       "Blogcatalog        9999.0   0.568157   1.197755  0.0   0.0   0.0   0.0    7.0\n",
       "Blogger            9999.0   2.823182   5.571476  0.0   0.0   0.0   0.0   28.0\n",
       "Buddymedia         9999.0   0.000000   0.000000  0.0   0.0   0.0   0.0    0.0\n",
       "...                   ...        ...        ...  ...   ...   ...   ...    ...\n",
       "Yfrog              9999.0   0.380638   0.755277  0.0   0.0   0.0   0.0    4.0\n",
       "Youtube            9999.0   6.039204   7.891839  0.0   0.0   0.0  12.0   36.0\n",
       "Yuku               9999.0   0.206621   0.588882  0.0   0.0   0.0   0.0    4.0\n",
       "Click              9999.0   0.123412   0.328926  0.0   0.0   0.0   0.0    1.0\n",
       "Total impressions  9999.0  59.259626  18.922823  6.0  46.0  58.0  72.0  128.0\n",
       "\n",
       "[82 rows x 8 columns]"
      ]
     },
     "execution_count": 14,
     "metadata": {},
     "output_type": "execute_result"
    }
   ],
   "source": [
    "website_stat=df.describe().T\n",
    "website_stat"
   ]
  },
  {
   "cell_type": "code",
   "execution_count": 15,
   "id": "4d590d01",
   "metadata": {},
   "outputs": [
    {
     "data": {
      "text/html": [
       "<div>\n",
       "<style scoped>\n",
       "    .dataframe tbody tr th:only-of-type {\n",
       "        vertical-align: middle;\n",
       "    }\n",
       "\n",
       "    .dataframe tbody tr th {\n",
       "        vertical-align: top;\n",
       "    }\n",
       "\n",
       "    .dataframe thead th {\n",
       "        text-align: right;\n",
       "    }\n",
       "</style>\n",
       "<table border=\"1\" class=\"dataframe\">\n",
       "  <thead>\n",
       "    <tr style=\"text-align: right;\">\n",
       "      <th></th>\n",
       "      <th>count</th>\n",
       "      <th>mean</th>\n",
       "      <th>std</th>\n",
       "      <th>min</th>\n",
       "      <th>25%</th>\n",
       "      <th>50%</th>\n",
       "      <th>75%</th>\n",
       "      <th>max</th>\n",
       "    </tr>\n",
       "  </thead>\n",
       "  <tbody>\n",
       "    <tr>\n",
       "      <th>Buddymedia</th>\n",
       "      <td>9999.0</td>\n",
       "      <td>0.0</td>\n",
       "      <td>0.0</td>\n",
       "      <td>0.0</td>\n",
       "      <td>0.0</td>\n",
       "      <td>0.0</td>\n",
       "      <td>0.0</td>\n",
       "      <td>0.0</td>\n",
       "    </tr>\n",
       "  </tbody>\n",
       "</table>\n",
       "</div>"
      ],
      "text/plain": [
       "             count  mean  std  min  25%  50%  75%  max\n",
       "Buddymedia  9999.0   0.0  0.0  0.0  0.0  0.0  0.0  0.0"
      ]
     },
     "execution_count": 15,
     "metadata": {},
     "output_type": "execute_result"
    }
   ],
   "source": [
    "website_stat[website_stat['max']==0]"
   ]
  },
  {
   "cell_type": "markdown",
   "id": "346d06e0",
   "metadata": {},
   "source": [
    "Having a max and min of 0 means could imply missing data but also literally means that there was no there was no engagement with the ad on this website. For this analysis, We'll not assume missing data. and buddymedia remains a part of the dataset"
   ]
  },
  {
   "cell_type": "markdown",
   "id": "0928fa53",
   "metadata": {},
   "source": [
    "### Handle Missing Values"
   ]
  },
  {
   "cell_type": "code",
   "execution_count": 16,
   "id": "fc857508",
   "metadata": {},
   "outputs": [
    {
     "data": {
      "text/plain": [
       "0    1\n",
       "dtype: int64"
      ]
     },
     "execution_count": 16,
     "metadata": {},
     "output_type": "execute_result"
    }
   ],
   "source": [
    "### Count all columns with 'Error: value not found' message\n",
    "\n",
    "data_error=pd.DataFrame(df.isin(['Error: value not found']).any())\n",
    "data_error.sum()"
   ]
  },
  {
   "cell_type": "markdown",
   "id": "65103567",
   "metadata": {},
   "source": [
    "One column has 'Error: value not found' message. The column is found below:"
   ]
  },
  {
   "cell_type": "code",
   "execution_count": 17,
   "id": "c96af103",
   "metadata": {},
   "outputs": [
    {
     "data": {
      "text/html": [
       "<div>\n",
       "<style scoped>\n",
       "    .dataframe tbody tr th:only-of-type {\n",
       "        vertical-align: middle;\n",
       "    }\n",
       "\n",
       "    .dataframe tbody tr th {\n",
       "        vertical-align: top;\n",
       "    }\n",
       "\n",
       "    .dataframe thead th {\n",
       "        text-align: right;\n",
       "    }\n",
       "</style>\n",
       "<table border=\"1\" class=\"dataframe\">\n",
       "  <thead>\n",
       "    <tr style=\"text-align: right;\">\n",
       "      <th></th>\n",
       "      <th>0</th>\n",
       "    </tr>\n",
       "  </thead>\n",
       "  <tbody>\n",
       "    <tr>\n",
       "      <th>Diigo</th>\n",
       "      <td>True</td>\n",
       "    </tr>\n",
       "  </tbody>\n",
       "</table>\n",
       "</div>"
      ],
      "text/plain": [
       "          0\n",
       "Diigo  True"
      ]
     },
     "execution_count": 17,
     "metadata": {},
     "output_type": "execute_result"
    }
   ],
   "source": [
    "# Find column with Error message\n",
    "data_error[data_error[0]==True]"
   ]
  },
  {
   "cell_type": "code",
   "execution_count": 18,
   "id": "0a1751cd",
   "metadata": {},
   "outputs": [],
   "source": [
    "### Replace Error message with numpy's Nan so it can be detected as a missing value and treated appropriately\n",
    "\n",
    "df['Diigo']=df['Diigo'].replace('Error: value not found', np.nan)"
   ]
  },
  {
   "cell_type": "code",
   "execution_count": 19,
   "id": "5c5be1da",
   "metadata": {},
   "outputs": [
    {
     "data": {
      "text/plain": [
       "642"
      ]
     },
     "execution_count": 19,
     "metadata": {},
     "output_type": "execute_result"
    }
   ],
   "source": [
    "# Check total number of missing values in dataset\n",
    "\n",
    "df.isnull().sum().sum()"
   ]
  },
  {
   "cell_type": "code",
   "execution_count": 20,
   "id": "61c34fa7",
   "metadata": {},
   "outputs": [
    {
     "data": {
      "text/plain": [
       "Index(['Diigo'], dtype='object')"
      ]
     },
     "execution_count": 20,
     "metadata": {},
     "output_type": "execute_result"
    }
   ],
   "source": [
    "# Find columns with missing values\n",
    "\n",
    "df.columns[df.isnull().any()]"
   ]
  },
  {
   "cell_type": "markdown",
   "id": "834baa05",
   "metadata": {},
   "source": [
    "'Diigo' has missing values and is an object datatype. This column's data type is changed to float before missing value is handled"
   ]
  },
  {
   "cell_type": "code",
   "execution_count": 21,
   "id": "28e08e5b",
   "metadata": {},
   "outputs": [],
   "source": [
    "# Change datatype of 'Diigo' to float\n",
    "df['Diigo'] = df['Diigo'].astype(float)\n",
    "\n",
    "# Handle missing values by filling null cells with the mean of the column to which they belong\n",
    "df['Diigo'].fillna((df['Diigo'].mean()), inplace=True)"
   ]
  },
  {
   "cell_type": "code",
   "execution_count": 22,
   "id": "b72fce2f",
   "metadata": {
    "scrolled": true
   },
   "outputs": [
    {
     "data": {
      "text/plain": [
       "0"
      ]
     },
     "execution_count": 22,
     "metadata": {},
     "output_type": "execute_result"
    }
   ],
   "source": [
    "# View sum of null values in training dataset\n",
    "df.isnull().sum().sum()"
   ]
  },
  {
   "cell_type": "markdown",
   "id": "f6ec21fe",
   "metadata": {},
   "source": [
    "All missing values have been handled"
   ]
  },
  {
   "cell_type": "code",
   "execution_count": 23,
   "id": "958aeec9",
   "metadata": {},
   "outputs": [
    {
     "data": {
      "text/plain": [
       "0"
      ]
     },
     "execution_count": 23,
     "metadata": {},
     "output_type": "execute_result"
    }
   ],
   "source": [
    "# View sum of null values in test dataset\n",
    "df_test.isnull().sum().sum()"
   ]
  },
  {
   "cell_type": "markdown",
   "id": "8d7ad9f7",
   "metadata": {},
   "source": [
    "Test data set has no missing values"
   ]
  },
  {
   "cell_type": "code",
   "execution_count": 24,
   "id": "5e7a5683",
   "metadata": {
    "scrolled": true
   },
   "outputs": [
    {
     "data": {
      "text/plain": [
       "0"
      ]
     },
     "execution_count": 24,
     "metadata": {},
     "output_type": "execute_result"
    }
   ],
   "source": [
    "# View sum of null values in description dataset\n",
    "df_desc.isnull().sum().sum()"
   ]
  },
  {
   "cell_type": "markdown",
   "id": "3908ae74",
   "metadata": {},
   "source": [
    "Description data set has no empty values"
   ]
  },
  {
   "cell_type": "markdown",
   "id": "f8f04e13",
   "metadata": {},
   "source": [
    "### Data Consistency"
   ]
  },
  {
   "cell_type": "code",
   "execution_count": 25,
   "id": "39ded8fd",
   "metadata": {},
   "outputs": [],
   "source": [
    "Categories = df_desc['Category'].unique()"
   ]
  },
  {
   "cell_type": "code",
   "execution_count": 26,
   "id": "7212d81a",
   "metadata": {
    "scrolled": true
   },
   "outputs": [
    {
     "name": "stdout",
     "output_type": "stream",
     "text": [
      "['Social Bookmarking' 'Social Networking' 'Blog' 'Social Media Aggregator'\n",
      " 'Opinions Site' 'Other' 'User-Generated Content Aggregator' 'Documents'\n",
      " 'Content / CMS' 'Photo Sharing' 'Social Media Measurement'\n",
      " 'Video Sharing' 'Micro-Blogging' ' Video Sharing' 'News']\n"
     ]
    }
   ],
   "source": [
    "print(Categories)"
   ]
  },
  {
   "cell_type": "markdown",
   "id": "5c8c4b3d",
   "metadata": {},
   "source": [
    "Video Sharing apears twice as 'Video Sharing' and ' Video Sharing'. This will is rectified below."
   ]
  },
  {
   "cell_type": "code",
   "execution_count": 27,
   "id": "ec1270f9",
   "metadata": {},
   "outputs": [],
   "source": [
    "df_desc['Category'].replace({' Video Sharing':'Video Sharing'}, inplace=True)"
   ]
  },
  {
   "cell_type": "code",
   "execution_count": 28,
   "id": "622d42fa",
   "metadata": {},
   "outputs": [
    {
     "name": "stdout",
     "output_type": "stream",
     "text": [
      "['Social Bookmarking' 'Social Networking' 'Blog' 'Social Media Aggregator'\n",
      " 'Opinions Site' 'Other' 'User-Generated Content Aggregator' 'Documents'\n",
      " 'Content / CMS' 'Photo Sharing' 'Social Media Measurement'\n",
      " 'Video Sharing' 'Micro-Blogging' 'News']\n"
     ]
    }
   ],
   "source": [
    "Categories = df_desc['Category'].unique()\n",
    "print(Categories)"
   ]
  },
  {
   "cell_type": "markdown",
   "id": "4689a257",
   "metadata": {},
   "source": [
    "This has been resolved"
   ]
  },
  {
   "cell_type": "code",
   "execution_count": 29,
   "id": "b7146f32",
   "metadata": {
    "scrolled": true
   },
   "outputs": [
    {
     "data": {
      "text/plain": [
       "int64      82\n",
       "float64     1\n",
       "dtype: int64"
      ]
     },
     "execution_count": 29,
     "metadata": {},
     "output_type": "execute_result"
    }
   ],
   "source": [
    "df.dtypes.value_counts()"
   ]
  },
  {
   "cell_type": "markdown",
   "id": "f3b1bd90",
   "metadata": {},
   "source": [
    "All columns are numerical. This is consistent withe expectation"
   ]
  },
  {
   "cell_type": "markdown",
   "id": "e10b352c",
   "metadata": {},
   "source": [
    "### Feature Engineering"
   ]
  },
  {
   "cell_type": "markdown",
   "id": "1f1a3d32",
   "metadata": {},
   "source": [
    "Engineer new columns that sum up all impressions made in different categories of websites. This will be needed during data exploration"
   ]
  },
  {
   "cell_type": "code",
   "execution_count": 30,
   "id": "ddb948f7",
   "metadata": {},
   "outputs": [],
   "source": [
    "# copy dataframe into new dataframe\n",
    "df_all= df.copy()"
   ]
  },
  {
   "cell_type": "code",
   "execution_count": 31,
   "id": "58a1d04e",
   "metadata": {},
   "outputs": [],
   "source": [
    "#Engineer new columns that sum up all engagments made in different categories of websites. \n",
    "\n",
    "for i in Categories:    \n",
    "    df_all[i]=0\n",
    "    name=(df_desc[df_desc['Category']==i]['Name']).array\n",
    "    df_all[i] = df[name].sum(axis=1)"
   ]
  },
  {
   "cell_type": "code",
   "execution_count": 32,
   "id": "de38f4bc",
   "metadata": {},
   "outputs": [
    {
     "data": {
      "text/html": [
       "<div>\n",
       "<style scoped>\n",
       "    .dataframe tbody tr th:only-of-type {\n",
       "        vertical-align: middle;\n",
       "    }\n",
       "\n",
       "    .dataframe tbody tr th {\n",
       "        vertical-align: top;\n",
       "    }\n",
       "\n",
       "    .dataframe thead th {\n",
       "        text-align: right;\n",
       "    }\n",
       "</style>\n",
       "<table border=\"1\" class=\"dataframe\">\n",
       "  <thead>\n",
       "    <tr style=\"text-align: right;\">\n",
       "      <th></th>\n",
       "      <th>Addthis</th>\n",
       "      <th>Bebo</th>\n",
       "      <th>Blogcatalog</th>\n",
       "      <th>Blogger</th>\n",
       "      <th>Buddymedia</th>\n",
       "      <th>Cnet</th>\n",
       "      <th>Conduit</th>\n",
       "      <th>Customerlobby</th>\n",
       "      <th>Delicious</th>\n",
       "      <th>Digg</th>\n",
       "      <th>...</th>\n",
       "      <th>Opinions Site</th>\n",
       "      <th>Other</th>\n",
       "      <th>User-Generated Content Aggregator</th>\n",
       "      <th>Documents</th>\n",
       "      <th>Content / CMS</th>\n",
       "      <th>Photo Sharing</th>\n",
       "      <th>Social Media Measurement</th>\n",
       "      <th>Video Sharing</th>\n",
       "      <th>Micro-Blogging</th>\n",
       "      <th>News</th>\n",
       "    </tr>\n",
       "  </thead>\n",
       "  <tbody>\n",
       "    <tr>\n",
       "      <th>0</th>\n",
       "      <td>0</td>\n",
       "      <td>0</td>\n",
       "      <td>2</td>\n",
       "      <td>0</td>\n",
       "      <td>0</td>\n",
       "      <td>3</td>\n",
       "      <td>6</td>\n",
       "      <td>0</td>\n",
       "      <td>0</td>\n",
       "      <td>0</td>\n",
       "      <td>...</td>\n",
       "      <td>5</td>\n",
       "      <td>15</td>\n",
       "      <td>0</td>\n",
       "      <td>0</td>\n",
       "      <td>0</td>\n",
       "      <td>11</td>\n",
       "      <td>0</td>\n",
       "      <td>0</td>\n",
       "      <td>0</td>\n",
       "      <td>0</td>\n",
       "    </tr>\n",
       "    <tr>\n",
       "      <th>1</th>\n",
       "      <td>0</td>\n",
       "      <td>3</td>\n",
       "      <td>0</td>\n",
       "      <td>0</td>\n",
       "      <td>0</td>\n",
       "      <td>0</td>\n",
       "      <td>1</td>\n",
       "      <td>0</td>\n",
       "      <td>0</td>\n",
       "      <td>0</td>\n",
       "      <td>...</td>\n",
       "      <td>2</td>\n",
       "      <td>2</td>\n",
       "      <td>2</td>\n",
       "      <td>0</td>\n",
       "      <td>0</td>\n",
       "      <td>2</td>\n",
       "      <td>0</td>\n",
       "      <td>12</td>\n",
       "      <td>0</td>\n",
       "      <td>4</td>\n",
       "    </tr>\n",
       "    <tr>\n",
       "      <th>2</th>\n",
       "      <td>0</td>\n",
       "      <td>2</td>\n",
       "      <td>0</td>\n",
       "      <td>0</td>\n",
       "      <td>0</td>\n",
       "      <td>0</td>\n",
       "      <td>0</td>\n",
       "      <td>0</td>\n",
       "      <td>2</td>\n",
       "      <td>0</td>\n",
       "      <td>...</td>\n",
       "      <td>0</td>\n",
       "      <td>0</td>\n",
       "      <td>2</td>\n",
       "      <td>0</td>\n",
       "      <td>0</td>\n",
       "      <td>6</td>\n",
       "      <td>0</td>\n",
       "      <td>4</td>\n",
       "      <td>0</td>\n",
       "      <td>0</td>\n",
       "    </tr>\n",
       "    <tr>\n",
       "      <th>3</th>\n",
       "      <td>0</td>\n",
       "      <td>0</td>\n",
       "      <td>0</td>\n",
       "      <td>0</td>\n",
       "      <td>0</td>\n",
       "      <td>0</td>\n",
       "      <td>0</td>\n",
       "      <td>0</td>\n",
       "      <td>0</td>\n",
       "      <td>0</td>\n",
       "      <td>...</td>\n",
       "      <td>2</td>\n",
       "      <td>0</td>\n",
       "      <td>0</td>\n",
       "      <td>0</td>\n",
       "      <td>0</td>\n",
       "      <td>0</td>\n",
       "      <td>0</td>\n",
       "      <td>22</td>\n",
       "      <td>1</td>\n",
       "      <td>0</td>\n",
       "    </tr>\n",
       "    <tr>\n",
       "      <th>4</th>\n",
       "      <td>0</td>\n",
       "      <td>0</td>\n",
       "      <td>0</td>\n",
       "      <td>0</td>\n",
       "      <td>0</td>\n",
       "      <td>5</td>\n",
       "      <td>7</td>\n",
       "      <td>0</td>\n",
       "      <td>0</td>\n",
       "      <td>5</td>\n",
       "      <td>...</td>\n",
       "      <td>6</td>\n",
       "      <td>14</td>\n",
       "      <td>5</td>\n",
       "      <td>0</td>\n",
       "      <td>2</td>\n",
       "      <td>13</td>\n",
       "      <td>0</td>\n",
       "      <td>0</td>\n",
       "      <td>2</td>\n",
       "      <td>0</td>\n",
       "    </tr>\n",
       "  </tbody>\n",
       "</table>\n",
       "<p>5 rows × 97 columns</p>\n",
       "</div>"
      ],
      "text/plain": [
       "   Addthis  Bebo  Blogcatalog  Blogger  Buddymedia  Cnet  Conduit  \\\n",
       "0        0     0            2        0           0     3        6   \n",
       "1        0     3            0        0           0     0        1   \n",
       "2        0     2            0        0           0     0        0   \n",
       "3        0     0            0        0           0     0        0   \n",
       "4        0     0            0        0           0     5        7   \n",
       "\n",
       "   Customerlobby  Delicious  Digg  ...  Opinions Site  Other  \\\n",
       "0              0          0     0  ...              5     15   \n",
       "1              0          0     0  ...              2      2   \n",
       "2              0          2     0  ...              0      0   \n",
       "3              0          0     0  ...              2      0   \n",
       "4              0          0     5  ...              6     14   \n",
       "\n",
       "   User-Generated Content Aggregator  Documents  Content / CMS  Photo Sharing  \\\n",
       "0                                  0          0              0             11   \n",
       "1                                  2          0              0              2   \n",
       "2                                  2          0              0              6   \n",
       "3                                  0          0              0              0   \n",
       "4                                  5          0              2             13   \n",
       "\n",
       "   Social Media Measurement  Video Sharing  Micro-Blogging  News  \n",
       "0                         0              0               0     0  \n",
       "1                         0             12               0     4  \n",
       "2                         0              4               0     0  \n",
       "3                         0             22               1     0  \n",
       "4                         0              0               2     0  \n",
       "\n",
       "[5 rows x 97 columns]"
      ]
     },
     "execution_count": 32,
     "metadata": {},
     "output_type": "execute_result"
    }
   ],
   "source": [
    "# Quick check to see if columns have been added\n",
    "\n",
    "df_all.head()"
   ]
  },
  {
   "cell_type": "markdown",
   "id": "0e772cde",
   "metadata": {},
   "source": [
    "A new dataframe containing all data about categories is extracted for exploratory data analysis. The first includes categories as well as the target variable, 'Click'."
   ]
  },
  {
   "cell_type": "code",
   "execution_count": 33,
   "id": "a595ffb7",
   "metadata": {},
   "outputs": [],
   "source": [
    "# Create 'data_cat' dataframe \n",
    "data_cat= df_all[['Social Bookmarking', 'Social Networking', 'Blog', 'Social Media Aggregator','Opinions Site', 'Other', 'User-Generated Content Aggregator', 'Documents','Content / CMS', 'Photo Sharing', 'Social Media Measurement', 'Video Sharing', 'Micro-Blogging', 'News', 'Click']]"
   ]
  },
  {
   "cell_type": "code",
   "execution_count": 34,
   "id": "96a9c5bf",
   "metadata": {},
   "outputs": [
    {
     "data": {
      "text/html": [
       "<div>\n",
       "<style scoped>\n",
       "    .dataframe tbody tr th:only-of-type {\n",
       "        vertical-align: middle;\n",
       "    }\n",
       "\n",
       "    .dataframe tbody tr th {\n",
       "        vertical-align: top;\n",
       "    }\n",
       "\n",
       "    .dataframe thead th {\n",
       "        text-align: right;\n",
       "    }\n",
       "</style>\n",
       "<table border=\"1\" class=\"dataframe\">\n",
       "  <thead>\n",
       "    <tr style=\"text-align: right;\">\n",
       "      <th></th>\n",
       "      <th>Social Bookmarking</th>\n",
       "      <th>Social Networking</th>\n",
       "      <th>Blog</th>\n",
       "      <th>Social Media Aggregator</th>\n",
       "      <th>Opinions Site</th>\n",
       "      <th>Other</th>\n",
       "      <th>User-Generated Content Aggregator</th>\n",
       "      <th>Documents</th>\n",
       "      <th>Content / CMS</th>\n",
       "      <th>Photo Sharing</th>\n",
       "      <th>Social Media Measurement</th>\n",
       "      <th>Video Sharing</th>\n",
       "      <th>Micro-Blogging</th>\n",
       "      <th>News</th>\n",
       "      <th>Click</th>\n",
       "    </tr>\n",
       "  </thead>\n",
       "  <tbody>\n",
       "    <tr>\n",
       "      <th>0</th>\n",
       "      <td>1.000000</td>\n",
       "      <td>11</td>\n",
       "      <td>8</td>\n",
       "      <td>5</td>\n",
       "      <td>5</td>\n",
       "      <td>15</td>\n",
       "      <td>0</td>\n",
       "      <td>0</td>\n",
       "      <td>0</td>\n",
       "      <td>11</td>\n",
       "      <td>0</td>\n",
       "      <td>0</td>\n",
       "      <td>0</td>\n",
       "      <td>0</td>\n",
       "      <td>0</td>\n",
       "    </tr>\n",
       "    <tr>\n",
       "      <th>1</th>\n",
       "      <td>4.000000</td>\n",
       "      <td>24</td>\n",
       "      <td>13</td>\n",
       "      <td>3</td>\n",
       "      <td>2</td>\n",
       "      <td>2</td>\n",
       "      <td>2</td>\n",
       "      <td>0</td>\n",
       "      <td>0</td>\n",
       "      <td>2</td>\n",
       "      <td>0</td>\n",
       "      <td>12</td>\n",
       "      <td>0</td>\n",
       "      <td>4</td>\n",
       "      <td>0</td>\n",
       "    </tr>\n",
       "    <tr>\n",
       "      <th>2</th>\n",
       "      <td>2.000000</td>\n",
       "      <td>6</td>\n",
       "      <td>17</td>\n",
       "      <td>6</td>\n",
       "      <td>0</td>\n",
       "      <td>0</td>\n",
       "      <td>2</td>\n",
       "      <td>0</td>\n",
       "      <td>0</td>\n",
       "      <td>6</td>\n",
       "      <td>0</td>\n",
       "      <td>4</td>\n",
       "      <td>0</td>\n",
       "      <td>0</td>\n",
       "      <td>0</td>\n",
       "    </tr>\n",
       "    <tr>\n",
       "      <th>3</th>\n",
       "      <td>0.074917</td>\n",
       "      <td>13</td>\n",
       "      <td>6</td>\n",
       "      <td>1</td>\n",
       "      <td>2</td>\n",
       "      <td>0</td>\n",
       "      <td>0</td>\n",
       "      <td>0</td>\n",
       "      <td>0</td>\n",
       "      <td>0</td>\n",
       "      <td>0</td>\n",
       "      <td>22</td>\n",
       "      <td>1</td>\n",
       "      <td>0</td>\n",
       "      <td>0</td>\n",
       "    </tr>\n",
       "    <tr>\n",
       "      <th>4</th>\n",
       "      <td>4.000000</td>\n",
       "      <td>26</td>\n",
       "      <td>4</td>\n",
       "      <td>4</td>\n",
       "      <td>6</td>\n",
       "      <td>14</td>\n",
       "      <td>5</td>\n",
       "      <td>0</td>\n",
       "      <td>2</td>\n",
       "      <td>13</td>\n",
       "      <td>0</td>\n",
       "      <td>0</td>\n",
       "      <td>2</td>\n",
       "      <td>0</td>\n",
       "      <td>0</td>\n",
       "    </tr>\n",
       "    <tr>\n",
       "      <th>...</th>\n",
       "      <td>...</td>\n",
       "      <td>...</td>\n",
       "      <td>...</td>\n",
       "      <td>...</td>\n",
       "      <td>...</td>\n",
       "      <td>...</td>\n",
       "      <td>...</td>\n",
       "      <td>...</td>\n",
       "      <td>...</td>\n",
       "      <td>...</td>\n",
       "      <td>...</td>\n",
       "      <td>...</td>\n",
       "      <td>...</td>\n",
       "      <td>...</td>\n",
       "      <td>...</td>\n",
       "    </tr>\n",
       "    <tr>\n",
       "      <th>9995</th>\n",
       "      <td>0.000000</td>\n",
       "      <td>23</td>\n",
       "      <td>20</td>\n",
       "      <td>0</td>\n",
       "      <td>1</td>\n",
       "      <td>0</td>\n",
       "      <td>1</td>\n",
       "      <td>0</td>\n",
       "      <td>0</td>\n",
       "      <td>7</td>\n",
       "      <td>0</td>\n",
       "      <td>1</td>\n",
       "      <td>0</td>\n",
       "      <td>1</td>\n",
       "      <td>0</td>\n",
       "    </tr>\n",
       "    <tr>\n",
       "      <th>9996</th>\n",
       "      <td>2.000000</td>\n",
       "      <td>21</td>\n",
       "      <td>5</td>\n",
       "      <td>9</td>\n",
       "      <td>3</td>\n",
       "      <td>3</td>\n",
       "      <td>0</td>\n",
       "      <td>0</td>\n",
       "      <td>2</td>\n",
       "      <td>2</td>\n",
       "      <td>0</td>\n",
       "      <td>0</td>\n",
       "      <td>1</td>\n",
       "      <td>3</td>\n",
       "      <td>0</td>\n",
       "    </tr>\n",
       "    <tr>\n",
       "      <th>9997</th>\n",
       "      <td>1.000000</td>\n",
       "      <td>24</td>\n",
       "      <td>1</td>\n",
       "      <td>4</td>\n",
       "      <td>1</td>\n",
       "      <td>0</td>\n",
       "      <td>0</td>\n",
       "      <td>5</td>\n",
       "      <td>4</td>\n",
       "      <td>10</td>\n",
       "      <td>0</td>\n",
       "      <td>2</td>\n",
       "      <td>3</td>\n",
       "      <td>0</td>\n",
       "      <td>0</td>\n",
       "    </tr>\n",
       "    <tr>\n",
       "      <th>9998</th>\n",
       "      <td>3.000000</td>\n",
       "      <td>21</td>\n",
       "      <td>4</td>\n",
       "      <td>1</td>\n",
       "      <td>3</td>\n",
       "      <td>0</td>\n",
       "      <td>1</td>\n",
       "      <td>0</td>\n",
       "      <td>4</td>\n",
       "      <td>0</td>\n",
       "      <td>0</td>\n",
       "      <td>0</td>\n",
       "      <td>12</td>\n",
       "      <td>0</td>\n",
       "      <td>0</td>\n",
       "    </tr>\n",
       "    <tr>\n",
       "      <th>9999</th>\n",
       "      <td>0.000000</td>\n",
       "      <td>3</td>\n",
       "      <td>8</td>\n",
       "      <td>0</td>\n",
       "      <td>0</td>\n",
       "      <td>6</td>\n",
       "      <td>0</td>\n",
       "      <td>3</td>\n",
       "      <td>2</td>\n",
       "      <td>26</td>\n",
       "      <td>0</td>\n",
       "      <td>0</td>\n",
       "      <td>8</td>\n",
       "      <td>0</td>\n",
       "      <td>0</td>\n",
       "    </tr>\n",
       "  </tbody>\n",
       "</table>\n",
       "<p>9999 rows × 15 columns</p>\n",
       "</div>"
      ],
      "text/plain": [
       "      Social Bookmarking  Social Networking  Blog  Social Media Aggregator  \\\n",
       "0               1.000000                 11     8                        5   \n",
       "1               4.000000                 24    13                        3   \n",
       "2               2.000000                  6    17                        6   \n",
       "3               0.074917                 13     6                        1   \n",
       "4               4.000000                 26     4                        4   \n",
       "...                  ...                ...   ...                      ...   \n",
       "9995            0.000000                 23    20                        0   \n",
       "9996            2.000000                 21     5                        9   \n",
       "9997            1.000000                 24     1                        4   \n",
       "9998            3.000000                 21     4                        1   \n",
       "9999            0.000000                  3     8                        0   \n",
       "\n",
       "      Opinions Site  Other  User-Generated Content Aggregator  Documents  \\\n",
       "0                 5     15                                  0          0   \n",
       "1                 2      2                                  2          0   \n",
       "2                 0      0                                  2          0   \n",
       "3                 2      0                                  0          0   \n",
       "4                 6     14                                  5          0   \n",
       "...             ...    ...                                ...        ...   \n",
       "9995              1      0                                  1          0   \n",
       "9996              3      3                                  0          0   \n",
       "9997              1      0                                  0          5   \n",
       "9998              3      0                                  1          0   \n",
       "9999              0      6                                  0          3   \n",
       "\n",
       "      Content / CMS  Photo Sharing  Social Media Measurement  Video Sharing  \\\n",
       "0                 0             11                         0              0   \n",
       "1                 0              2                         0             12   \n",
       "2                 0              6                         0              4   \n",
       "3                 0              0                         0             22   \n",
       "4                 2             13                         0              0   \n",
       "...             ...            ...                       ...            ...   \n",
       "9995              0              7                         0              1   \n",
       "9996              2              2                         0              0   \n",
       "9997              4             10                         0              2   \n",
       "9998              4              0                         0              0   \n",
       "9999              2             26                         0              0   \n",
       "\n",
       "      Micro-Blogging  News  Click  \n",
       "0                  0     0      0  \n",
       "1                  0     4      0  \n",
       "2                  0     0      0  \n",
       "3                  1     0      0  \n",
       "4                  2     0      0  \n",
       "...              ...   ...    ...  \n",
       "9995               0     1      0  \n",
       "9996               1     3      0  \n",
       "9997               3     0      0  \n",
       "9998              12     0      0  \n",
       "9999               8     0      0  \n",
       "\n",
       "[9999 rows x 15 columns]"
      ]
     },
     "execution_count": 34,
     "metadata": {},
     "output_type": "execute_result"
    }
   ],
   "source": [
    "# View 'data_cat' dataframe containing impressions for each user\n",
    "data_cat"
   ]
  },
  {
   "cell_type": "markdown",
   "id": "447a57c4",
   "metadata": {},
   "source": [
    "## Part 2: Exploratory Data Analysis"
   ]
  },
  {
   "cell_type": "markdown",
   "id": "4610a549",
   "metadata": {},
   "source": [
    "#### 1. Non Click and Click Visualisation"
   ]
  },
  {
   "cell_type": "code",
   "execution_count": 35,
   "id": "789fa556",
   "metadata": {},
   "outputs": [
    {
     "data": {
      "text/plain": [
       "Text(0, 0.5, 'Count')"
      ]
     },
     "execution_count": 35,
     "metadata": {},
     "output_type": "execute_result"
    },
    {
     "data": {
      "image/png": "[encoded data removed]",
      "text/plain": [
       "<Figure size 576x576 with 1 Axes>"
      ]
     },
     "metadata": {
      "needs_background": "light"
     },
     "output_type": "display_data"
    }
   ],
   "source": [
    "# Visualise clicks and non-clicks\n",
    "\n",
    "plt.figure(figsize = (8, 8))\n",
    "click_plot = sns.countplot(x = 'Click', data = data_cat)\n",
    "for p in click_plot.patches:\n",
    "    click_plot.annotate(p.get_height(), \n",
    "                        (p.get_x() + p.get_width() / 2.0, \n",
    "                         p.get_height()), \n",
    "                        ha = 'center', \n",
    "                        va = 'center', \n",
    "                        xytext = (0, 5),\n",
    "                        textcoords = 'offset points')\n",
    "\n",
    "plt.title(\"Counts of Non-clicks(0) and Clicks(1)\")\n",
    "plt.xlabel(\"Non-clicks(0) and Clicks(1)\")\n",
    "plt.ylabel(\"Count\")"
   ]
  },
  {
   "cell_type": "markdown",
   "id": "05926e04",
   "metadata": {},
   "source": [
    "The is a huge data imbalance problem here which will be tackled before modelling."
   ]
  },
  {
   "cell_type": "markdown",
   "id": "5faacb74",
   "metadata": {},
   "source": [
    "#### 2. Click through rate"
   ]
  },
  {
   "cell_type": "code",
   "execution_count": 36,
   "id": "04890f76",
   "metadata": {},
   "outputs": [
    {
     "name": "stdout",
     "output_type": "stream",
     "text": [
      "Click through rate = 0.002082570371132942\n"
     ]
    }
   ],
   "source": [
    "# Calculate click through rate \n",
    "\n",
    "Click_through_rate = sum(df['Click'])/sum(df['Total impressions'])\n",
    "print(\"Click through rate =\",Click_through_rate)"
   ]
  },
  {
   "cell_type": "markdown",
   "id": "6bd89247",
   "metadata": {},
   "source": [
    "This means that per 1000 impressions, 2 clicks are gotten. <br>\n",
    "Assuming: <br>\n",
    "1. CPM (cost of media) equal to £2.31 per 1000 impressions <br>\n",
    "2. an average click is worth £1.03 to the client.\n",
    "\n",
    "The implication is that £2.31 is spent making £2.06 consequently meaning the present marketing strategy is incuring a loss"
   ]
  },
  {
   "cell_type": "markdown",
   "id": "66767d87",
   "metadata": {},
   "source": [
    "#### 3. Correlation between Website Categories impressions and Clicks"
   ]
  },
  {
   "cell_type": "code",
   "execution_count": 37,
   "id": "e12c7f37",
   "metadata": {},
   "outputs": [
    {
     "data": {
      "text/plain": [
       "Documents                            0.010453\n",
       "News                                 0.045374\n",
       "Video Sharing                        0.057280\n",
       "Social Media Measurement             0.067935\n",
       "Content / CMS                        0.071679\n",
       "Other                                0.074168\n",
       "Micro-Blogging                       0.076436\n",
       "Social Media Aggregator              0.091651\n",
       "Photo Sharing                        0.093335\n",
       "User-Generated Content Aggregator    0.095882\n",
       "Social Bookmarking                   0.097822\n",
       "Social Networking                    0.127179\n",
       "Opinions Site                        0.270352\n",
       "Blog                                 0.363993\n",
       "dtype: float64"
      ]
     },
     "execution_count": 37,
     "metadata": {},
     "output_type": "execute_result"
    }
   ],
   "source": [
    "#Find correlation between Website Categories impressions and Clicks\n",
    "\n",
    "Category_impressions= data_cat.drop(['Click'], axis=1)\n",
    "pearson_corr=Category_impressions.corrwith(data_cat['Click'])\n",
    "pearson_corr.sort_values(ascending=True)"
   ]
  },
  {
   "cell_type": "code",
   "execution_count": 38,
   "id": "a8fb3cf8",
   "metadata": {},
   "outputs": [
    {
     "data": {
      "text/plain": [
       "<AxesSubplot:title={'center':'Website categories and how their impact on clicks'}, ylabel='correlation'>"
      ]
     },
     "execution_count": 38,
     "metadata": {},
     "output_type": "execute_result"
    },
    {
     "data": {
      "image/png": "[encoded data removed]",
      "text/plain": [
       "<Figure size 720x432 with 1 Axes>"
      ]
     },
     "metadata": {
      "needs_background": "light"
     },
     "output_type": "display_data"
    }
   ],
   "source": [
    "#Plot correlation between Website Categories engagement and Clicks\n",
    "\n",
    "pearson_corr.sort_values(ascending=False).plot.bar(figsize=(10,6),ylabel= 'correlation', title= 'Website categories and how their impact on clicks')"
   ]
  },
  {
   "cell_type": "code",
   "execution_count": 39,
   "id": "7370c88f",
   "metadata": {},
   "outputs": [
    {
     "data": {
      "image/png": "[encoded data removed]",
      "text/plain": [
       "<Figure size 1440x1440 with 2 Axes>"
      ]
     },
     "metadata": {
      "needs_background": "light"
     },
     "output_type": "display_data"
    }
   ],
   "source": [
    "# Show correlation heatmap to check correlation and to see if there are any colinearities between categories.\n",
    "\n",
    "corrmat=data_cat.corr()\n",
    "top_corr_features= corrmat.index\n",
    "plt.figure(figsize=(20,20))\n",
    "\n",
    "g=sns.heatmap(data_cat[top_corr_features].corr(), annot=True, cmap='RdYlGn')"
   ]
  },
  {
   "cell_type": "code",
   "execution_count": null,
   "id": "66c1bb65",
   "metadata": {},
   "outputs": [],
   "source": []
  },
  {
   "cell_type": "code",
   "execution_count": 40,
   "id": "edb5d916",
   "metadata": {},
   "outputs": [
    {
     "data": {
      "text/plain": [
       "(array([ 0,  1,  2,  3,  4,  5,  6,  7,  8,  9, 10, 11, 12, 13]),\n",
       " [Text(0, 0, 'Social Networking'),\n",
       "  Text(1, 0, 'Blog'),\n",
       "  Text(2, 0, 'Video Sharing'),\n",
       "  Text(3, 0, 'Photo Sharing'),\n",
       "  Text(4, 0, 'Other'),\n",
       "  Text(5, 0, 'Micro-Blogging'),\n",
       "  Text(6, 0, 'Opinions Site'),\n",
       "  Text(7, 0, 'Social Media Aggregator'),\n",
       "  Text(8, 0, 'User-Generated Content Aggregator'),\n",
       "  Text(9, 0, 'Social Bookmarking'),\n",
       "  Text(10, 0, 'Content / CMS'),\n",
       "  Text(11, 0, 'Documents'),\n",
       "  Text(12, 0, 'News'),\n",
       "  Text(13, 0, 'Social Media Measurement')])"
      ]
     },
     "execution_count": 40,
     "metadata": {},
     "output_type": "execute_result"
    },
    {
     "data": {
      "image/png": "[encoded data removed]",
      "text/plain": [
       "<Figure size 720x432 with 1 Axes>"
      ]
     },
     "metadata": {
      "needs_background": "light"
     },
     "output_type": "display_data"
    }
   ],
   "source": [
    "# Plot the present mean impressions on each user for every website category\n",
    "desc_cat= data_cat.describe().drop(['Click'], axis=1).T.sort_values(by=['mean'],ascending=False)\n",
    "plt.figure(figsize = (10, 6))\n",
    "sns.barplot(x=desc_cat.index, y=desc_cat['mean'], data=desc_cat, palette=\"Blues_d\")\n",
    "\n",
    "plt.xticks(rotation='vertical')"
   ]
  },
  {
   "cell_type": "markdown",
   "id": "e416c609",
   "metadata": {},
   "source": [
    "#### 4. Optimum number of impressions"
   ]
  },
  {
   "cell_type": "code",
   "execution_count": 41,
   "id": "bab825b1",
   "metadata": {},
   "outputs": [
    {
     "data": {
      "text/plain": [
       "Text(0.5, 1.0, 'Employee Satisfaction Distribution - Turnover V.S. No Turnover')"
      ]
     },
     "execution_count": 41,
     "metadata": {},
     "output_type": "execute_result"
    },
    {
     "data": {
      "image/png": "[encoded data removed]",
      "text/plain": [
       "<Figure size 1080x288 with 1 Axes>"
      ]
     },
     "metadata": {
      "needs_background": "light"
     },
     "output_type": "display_data"
    }
   ],
   "source": [
    "#KDEPlot: Kernel Density Estimate Plot\n",
    "fig = plt.figure(figsize=(15,4))\n",
    "ax=sns.kdeplot(df_all.loc[(df['Click'] == 0),'Total impressions'] , color='b',shade=True, label='No click')\n",
    "ax=sns.kdeplot(df_all.loc[(df['Click'] == 1),'Total impressions'] , color='r',shade=True, label='Click')\n",
    "plt.title('Employee Satisfaction Distribution - Turnover V.S. No Turnover')"
   ]
  },
  {
   "cell_type": "markdown",
   "id": "4d793fc4",
   "metadata": {},
   "source": [
    "Distribution for both clicks and non-clicks are unimodal and normal. <br>\n",
    "Generally, more clicks are gotten at a higher engagement. When around 80 impressions are made on customers, They are a lot more likely to click compared to when less or more is made. Having more impressions than this, comes with a cost and may not have any marginal impact. Impressions above 140 are likely to yield no clicks as it shows that customer may be disinterested in what is advert."
   ]
  },
  {
   "cell_type": "markdown",
   "id": "82d51dbb",
   "metadata": {},
   "source": [
    "#### 5. Best and worst websites to create impressions"
   ]
  },
  {
   "cell_type": "code",
   "execution_count": 42,
   "id": "1807506e",
   "metadata": {},
   "outputs": [],
   "source": [
    "#correlation between Website and Clicks\n",
    "Category_engagement= df.drop(['Click','Total impressions'], axis=1)\n",
    "pearson_corr=Category_engagement.corrwith(df['Click'])\n",
    "pearson_corr_top10=pearson_corr.sort_values(ascending=False).iloc[:15]"
   ]
  },
  {
   "cell_type": "code",
   "execution_count": 43,
   "id": "0ebf9580",
   "metadata": {},
   "outputs": [
    {
     "data": {
      "text/plain": [
       "<AxesSubplot:title={'center':'Fifteen (15) websites that highest impact on clicks'}, ylabel='pearson correlation'>"
      ]
     },
     "execution_count": 43,
     "metadata": {},
     "output_type": "execute_result"
    },
    {
     "data": {
      "image/png": "[encoded data removed]",
      "text/plain": [
       "<Figure size 864x432 with 1 Axes>"
      ]
     },
     "metadata": {
      "needs_background": "light"
     },
     "output_type": "display_data"
    }
   ],
   "source": [
    "#Plot correlation between Website and Clicks (Top 15)\n",
    "\n",
    "pearson_corr_top10.sort_values(ascending=False).plot.bar(figsize=(12,6),ylabel= 'pearson correlation', title= 'Fifteen (15) websites that highest impact on clicks', color = 'red')"
   ]
  },
  {
   "cell_type": "markdown",
   "id": "bbb924fd",
   "metadata": {},
   "source": [
    "Paying attention to these sites is boud to have an impact clicks and click through rates "
   ]
  },
  {
   "cell_type": "code",
   "execution_count": 44,
   "id": "44ac534e",
   "metadata": {},
   "outputs": [
    {
     "data": {
      "text/plain": [
       "<AxesSubplot:title={'center':'Fifteen (15) websites that least impact clicks'}, ylabel='Websites'>"
      ]
     },
     "execution_count": 44,
     "metadata": {},
     "output_type": "execute_result"
    },
    {
     "data": {
      "image/png": "[encoded data removed]",
      "text/plain": [
       "<Figure size 864x432 with 1 Axes>"
      ]
     },
     "metadata": {
      "needs_background": "light"
     },
     "output_type": "display_data"
    }
   ],
   "source": [
    "#Plot correlation between Website Categories engagement and Clicks ( Worst 15)\n",
    "pearson_corr_top10=pearson_corr.sort_values(ascending=True).iloc[:15]\n",
    "pearson_corr_top10.sort_values(ascending=False).plot.bar(figsize=(12,6),ylabel= 'Websites', title= 'Fifteen (15) websites that least impact clicks', color='blue')"
   ]
  },
  {
   "cell_type": "markdown",
   "id": "0e9c13de",
   "metadata": {},
   "source": [
    "The above sites have least impact on click. Reducing or discontinuing paying for impressions on these websites will help save the marking budget. And use the for more important websites"
   ]
  },
  {
   "cell_type": "markdown",
   "id": "b3c5d814",
   "metadata": {},
   "source": [
    "## Part 3: Modelling"
   ]
  },
  {
   "cell_type": "markdown",
   "id": "f241d636",
   "metadata": {},
   "source": [
    "To handle Class imbalance, three balancing techniques are tried out to find best performance."
   ]
  },
  {
   "cell_type": "code",
   "execution_count": 45,
   "id": "b4015506",
   "metadata": {},
   "outputs": [],
   "source": [
    "#Select training data\n",
    "\n",
    "X= df.drop(['Click','Total impressions'], axis=1)\n",
    "y= df['Click']"
   ]
  },
  {
   "cell_type": "code",
   "execution_count": 46,
   "id": "764aa51b",
   "metadata": {},
   "outputs": [
    {
     "name": "stdout",
     "output_type": "stream",
     "text": [
      "Original shape: (9999, 81) (9999,)\n",
      "Downsampled shape: (2468, 81) (2468,)\n",
      "Upsampled shape: (17530, 81) (17530,)\n",
      "SMOTE sample shape: (17530, 81) (17530,)\n"
     ]
    }
   ],
   "source": [
    "# Create different balanced datasets using different techniques\n",
    "\n",
    "from sklearn.utils import resample\n",
    "from imblearn.over_sampling import SMOTE \n",
    "\n",
    "# Using random undersampling and a random state of 21\n",
    "from imblearn.under_sampling import RandomUnderSampler\n",
    "rus = RandomUnderSampler(random_state=21)\n",
    "X_Under, y_Under= rus.fit_resample(X, y)\n",
    "\n",
    "# Using random oversampling and a random state of 42\n",
    "from imblearn.over_sampling import RandomOverSampler \n",
    "ros = RandomOverSampler(random_state=42)\n",
    "X_Over, y_Over = ros.fit_resample(X, y)\n",
    "\n",
    "# Up sampling using SMOTE (Synthetic Minority Oversampling technique) and a random state of 42\n",
    "from imblearn.over_sampling import SMOTE\n",
    "sm = SMOTE(random_state=42)\n",
    "X_smote, y_smote = sm.fit_resample(X, y)\n",
    "\n",
    "print(\"Original shape:\", X.shape, y.shape)\n",
    "print(\"Downsampled shape:\", X_Under.shape, y_Under.shape)\n",
    "print(\"Upsampled shape:\", X_Over.shape, y_Over.shape)\n",
    "print (\"SMOTE sample shape:\", X_smote.shape, y_smote.shape)\n"
   ]
  },
  {
   "cell_type": "markdown",
   "id": "b0be7347",
   "metadata": {},
   "source": [
    "Logistic regression is used because it is easy to comprehend. Cross validation is also used to improve the robustness of the model and reduce possible over fitting"
   ]
  },
  {
   "cell_type": "code",
   "execution_count": 47,
   "id": "7cfe10be",
   "metadata": {},
   "outputs": [],
   "source": [
    "#import logistic regression cross validation \n",
    "\n",
    "from sklearn.linear_model import LogisticRegressionCV"
   ]
  },
  {
   "cell_type": "code",
   "execution_count": 48,
   "id": "1f206fec",
   "metadata": {
    "scrolled": true
   },
   "outputs": [
    {
     "name": "stdout",
     "output_type": "stream",
     "text": [
      "Original model accuracy= 97.97%\n",
      "Downsampled model accuracy= 95.93%\n",
      "Upsampled model accuracy= 96.86%\n",
      "SMOTE sample model accuracy= 77.38%\n"
     ]
    }
   ],
   "source": [
    "# Create modles using original data, undersampled data, oversampled data and oversampled SMOTE data\n",
    "\n",
    "lr_original = LogisticRegressionCV(cv=5, random_state=0, scoring='accuracy').fit(X, y)\n",
    "lr_Under = LogisticRegressionCV(cv=5, random_state=0, scoring='accuracy').fit(X_Under, y_Under)\n",
    "lr_Over = LogisticRegressionCV(cv=5, random_state=0, scoring='accuracy').fit(X_Over, y_Over)\n",
    "lr_Smote = LogisticRegressionCV(cv=5, random_state=0, scoring='accuracy').fit(X_smote, y_smote)\n",
    "\n",
    "print(\"Original model accuracy= {:.2f}%\".format(lr_original.score(X,y)*100))\n",
    "print(\"Downsampled model accuracy= {:.2f}%\".format(lr_Under.score(X,y)*100))\n",
    "print(\"Upsampled model accuracy= {:.2f}%\".format(lr_Over.score(X,y)*100))\n",
    "print (\"SMOTE sample model accuracy= {:.2f}%\".format(lr_Smote.score(X,y)*100))"
   ]
  },
  {
   "cell_type": "markdown",
   "id": "77a55100",
   "metadata": {},
   "source": [
    "Original data performed best so it will be used for the final modelling<br>\n",
    "It is important to find an optimal cross validation value to have an optimized model"
   ]
  },
  {
   "cell_type": "code",
   "execution_count": 49,
   "id": "7d34878e",
   "metadata": {},
   "outputs": [],
   "source": [
    "# Train models at different cross validations between 2 and 12\n",
    "cv_curve={}\n",
    "for i in range(2,13):\n",
    "    lr_original = LogisticRegressionCV(cv=i, random_state=0, scoring='accuracy').fit(X, y)\n",
    "    cv_curve[i]=lr_original.score(X,y)*100"
   ]
  },
  {
   "cell_type": "code",
   "execution_count": 50,
   "id": "c1659a63",
   "metadata": {},
   "outputs": [
    {
     "data": {
      "image/png": "[encoded data removed]",
      "text/plain": [
       "<Figure size 432x288 with 1 Axes>"
      ]
     },
     "metadata": {
      "needs_background": "light"
     },
     "output_type": "display_data"
    }
   ],
   "source": [
    "# Plot accuracy against cross validation\n",
    "cross_validation = list(cv_curve.keys())\n",
    "accuracy = list(cv_curve.values())\n",
    "  \n",
    "plt.plot(cross_validation, accuracy, color='red', marker='o')\n",
    "plt.title('A plot of cross validation and accuracy', fontsize=14)\n",
    "plt.xlabel('cross validation', fontsize=14)\n",
    "plt.ylabel('accuracy', fontsize=14)\n",
    "plt.grid(True)\n",
    "plt.show()"
   ]
  },
  {
   "cell_type": "markdown",
   "id": "6caa3ba4",
   "metadata": {},
   "source": [
    "The best performing model is gotten using a cross validation of 3"
   ]
  },
  {
   "cell_type": "code",
   "execution_count": 51,
   "id": "08740e1a",
   "metadata": {},
   "outputs": [],
   "source": [
    "lr_original = LogisticRegressionCV(cv=3, random_state=0, scoring='accuracy').fit(X, y)"
   ]
  },
  {
   "cell_type": "markdown",
   "id": "137d90ca",
   "metadata": {},
   "source": [
    "## Part 4: Prediction"
   ]
  },
  {
   "cell_type": "markdown",
   "id": "9c2bb88e",
   "metadata": {},
   "source": [
    "The original data logistic regression model is used for prediction because it performs better than others."
   ]
  },
  {
   "cell_type": "code",
   "execution_count": 52,
   "id": "952639e0",
   "metadata": {},
   "outputs": [
    {
     "data": {
      "text/html": [
       "<div>\n",
       "<style scoped>\n",
       "    .dataframe tbody tr th:only-of-type {\n",
       "        vertical-align: middle;\n",
       "    }\n",
       "\n",
       "    .dataframe tbody tr th {\n",
       "        vertical-align: top;\n",
       "    }\n",
       "\n",
       "    .dataframe thead th {\n",
       "        text-align: right;\n",
       "    }\n",
       "</style>\n",
       "<table border=\"1\" class=\"dataframe\">\n",
       "  <thead>\n",
       "    <tr style=\"text-align: right;\">\n",
       "      <th></th>\n",
       "      <th>Unnamed: 0</th>\n",
       "      <th>Addthis</th>\n",
       "      <th>Bebo</th>\n",
       "      <th>Blogcatalog</th>\n",
       "      <th>Blogger</th>\n",
       "      <th>Buddymedia</th>\n",
       "      <th>Cnet</th>\n",
       "      <th>Conduit</th>\n",
       "      <th>Customerlobby</th>\n",
       "      <th>Delicious</th>\n",
       "      <th>...</th>\n",
       "      <th>Viadeo</th>\n",
       "      <th>Vimeo</th>\n",
       "      <th>Vocus</th>\n",
       "      <th>Wetpaint</th>\n",
       "      <th>Wordpress</th>\n",
       "      <th>Xanga</th>\n",
       "      <th>Yelp</th>\n",
       "      <th>Yfrog</th>\n",
       "      <th>Youtube</th>\n",
       "      <th>Yuku</th>\n",
       "    </tr>\n",
       "  </thead>\n",
       "  <tbody>\n",
       "    <tr>\n",
       "      <th>0</th>\n",
       "      <td>dmp813626769</td>\n",
       "      <td>0</td>\n",
       "      <td>0</td>\n",
       "      <td>0</td>\n",
       "      <td>10</td>\n",
       "      <td>0</td>\n",
       "      <td>0</td>\n",
       "      <td>0</td>\n",
       "      <td>0</td>\n",
       "      <td>1</td>\n",
       "      <td>...</td>\n",
       "      <td>0</td>\n",
       "      <td>1</td>\n",
       "      <td>0</td>\n",
       "      <td>0</td>\n",
       "      <td>0</td>\n",
       "      <td>3</td>\n",
       "      <td>0</td>\n",
       "      <td>1</td>\n",
       "      <td>0</td>\n",
       "      <td>0</td>\n",
       "    </tr>\n",
       "    <tr>\n",
       "      <th>1</th>\n",
       "      <td>dmp752138753</td>\n",
       "      <td>0</td>\n",
       "      <td>0</td>\n",
       "      <td>0</td>\n",
       "      <td>0</td>\n",
       "      <td>0</td>\n",
       "      <td>0</td>\n",
       "      <td>0</td>\n",
       "      <td>0</td>\n",
       "      <td>0</td>\n",
       "      <td>...</td>\n",
       "      <td>0</td>\n",
       "      <td>0</td>\n",
       "      <td>0</td>\n",
       "      <td>0</td>\n",
       "      <td>0</td>\n",
       "      <td>1</td>\n",
       "      <td>1</td>\n",
       "      <td>2</td>\n",
       "      <td>6</td>\n",
       "      <td>0</td>\n",
       "    </tr>\n",
       "    <tr>\n",
       "      <th>2</th>\n",
       "      <td>dmp646269971</td>\n",
       "      <td>3</td>\n",
       "      <td>0</td>\n",
       "      <td>3</td>\n",
       "      <td>0</td>\n",
       "      <td>0</td>\n",
       "      <td>0</td>\n",
       "      <td>0</td>\n",
       "      <td>0</td>\n",
       "      <td>1</td>\n",
       "      <td>...</td>\n",
       "      <td>0</td>\n",
       "      <td>0</td>\n",
       "      <td>0</td>\n",
       "      <td>0</td>\n",
       "      <td>0</td>\n",
       "      <td>2</td>\n",
       "      <td>0</td>\n",
       "      <td>2</td>\n",
       "      <td>0</td>\n",
       "      <td>0</td>\n",
       "    </tr>\n",
       "    <tr>\n",
       "      <th>3</th>\n",
       "      <td>dmp261229437</td>\n",
       "      <td>0</td>\n",
       "      <td>0</td>\n",
       "      <td>0</td>\n",
       "      <td>8</td>\n",
       "      <td>0</td>\n",
       "      <td>0</td>\n",
       "      <td>0</td>\n",
       "      <td>0</td>\n",
       "      <td>0</td>\n",
       "      <td>...</td>\n",
       "      <td>0</td>\n",
       "      <td>0</td>\n",
       "      <td>0</td>\n",
       "      <td>0</td>\n",
       "      <td>0</td>\n",
       "      <td>0</td>\n",
       "      <td>0</td>\n",
       "      <td>2</td>\n",
       "      <td>7</td>\n",
       "      <td>0</td>\n",
       "    </tr>\n",
       "    <tr>\n",
       "      <th>4</th>\n",
       "      <td>dmp881635703</td>\n",
       "      <td>0</td>\n",
       "      <td>0</td>\n",
       "      <td>0</td>\n",
       "      <td>0</td>\n",
       "      <td>0</td>\n",
       "      <td>3</td>\n",
       "      <td>0</td>\n",
       "      <td>0</td>\n",
       "      <td>0</td>\n",
       "      <td>...</td>\n",
       "      <td>0</td>\n",
       "      <td>0</td>\n",
       "      <td>0</td>\n",
       "      <td>0</td>\n",
       "      <td>4</td>\n",
       "      <td>2</td>\n",
       "      <td>2</td>\n",
       "      <td>1</td>\n",
       "      <td>13</td>\n",
       "      <td>2</td>\n",
       "    </tr>\n",
       "  </tbody>\n",
       "</table>\n",
       "<p>5 rows × 82 columns</p>\n",
       "</div>"
      ],
      "text/plain": [
       "     Unnamed: 0  Addthis  Bebo  Blogcatalog  Blogger  Buddymedia  Cnet  \\\n",
       "0  dmp813626769        0     0            0       10           0     0   \n",
       "1  dmp752138753        0     0            0        0           0     0   \n",
       "2  dmp646269971        3     0            3        0           0     0   \n",
       "3  dmp261229437        0     0            0        8           0     0   \n",
       "4  dmp881635703        0     0            0        0           0     3   \n",
       "\n",
       "   Conduit  Customerlobby  Delicious  ...  Viadeo  Vimeo  Vocus  Wetpaint  \\\n",
       "0        0              0          1  ...       0      1      0         0   \n",
       "1        0              0          0  ...       0      0      0         0   \n",
       "2        0              0          1  ...       0      0      0         0   \n",
       "3        0              0          0  ...       0      0      0         0   \n",
       "4        0              0          0  ...       0      0      0         0   \n",
       "\n",
       "   Wordpress  Xanga  Yelp  Yfrog  Youtube  Yuku  \n",
       "0          0      3     0      1        0     0  \n",
       "1          0      1     1      2        6     0  \n",
       "2          0      2     0      2        0     0  \n",
       "3          0      0     0      2        7     0  \n",
       "4          4      2     2      1       13     2  \n",
       "\n",
       "[5 rows x 82 columns]"
      ]
     },
     "execution_count": 52,
     "metadata": {},
     "output_type": "execute_result"
    }
   ],
   "source": [
    "# Inspect test data\n",
    "df_test.head()"
   ]
  },
  {
   "cell_type": "code",
   "execution_count": 53,
   "id": "0b639b61",
   "metadata": {},
   "outputs": [
    {
     "data": {
      "text/plain": [
       "(1000, 82)"
      ]
     },
     "execution_count": 53,
     "metadata": {},
     "output_type": "execute_result"
    }
   ],
   "source": [
    "# Further inspection\n",
    "df_test.shape"
   ]
  },
  {
   "cell_type": "code",
   "execution_count": 54,
   "id": "47edb063",
   "metadata": {},
   "outputs": [],
   "source": [
    "# Make predictions and join to dataframe\n",
    "\n",
    "y_predict=lr_original.predict(df_test.drop(['Unnamed: 0'], axis=1))\n",
    "df_test['Click']=y_predict"
   ]
  },
  {
   "cell_type": "code",
   "execution_count": 55,
   "id": "106e7158",
   "metadata": {},
   "outputs": [
    {
     "data": {
      "text/html": [
       "<div>\n",
       "<style scoped>\n",
       "    .dataframe tbody tr th:only-of-type {\n",
       "        vertical-align: middle;\n",
       "    }\n",
       "\n",
       "    .dataframe tbody tr th {\n",
       "        vertical-align: top;\n",
       "    }\n",
       "\n",
       "    .dataframe thead th {\n",
       "        text-align: right;\n",
       "    }\n",
       "</style>\n",
       "<table border=\"1\" class=\"dataframe\">\n",
       "  <thead>\n",
       "    <tr style=\"text-align: right;\">\n",
       "      <th></th>\n",
       "      <th>Unnamed: 0</th>\n",
       "      <th>Addthis</th>\n",
       "      <th>Bebo</th>\n",
       "      <th>Blogcatalog</th>\n",
       "      <th>Blogger</th>\n",
       "      <th>Buddymedia</th>\n",
       "      <th>Cnet</th>\n",
       "      <th>Conduit</th>\n",
       "      <th>Customerlobby</th>\n",
       "      <th>Delicious</th>\n",
       "      <th>...</th>\n",
       "      <th>Vimeo</th>\n",
       "      <th>Vocus</th>\n",
       "      <th>Wetpaint</th>\n",
       "      <th>Wordpress</th>\n",
       "      <th>Xanga</th>\n",
       "      <th>Yelp</th>\n",
       "      <th>Yfrog</th>\n",
       "      <th>Youtube</th>\n",
       "      <th>Yuku</th>\n",
       "      <th>Click</th>\n",
       "    </tr>\n",
       "  </thead>\n",
       "  <tbody>\n",
       "    <tr>\n",
       "      <th>0</th>\n",
       "      <td>dmp813626769</td>\n",
       "      <td>0</td>\n",
       "      <td>0</td>\n",
       "      <td>0</td>\n",
       "      <td>10</td>\n",
       "      <td>0</td>\n",
       "      <td>0</td>\n",
       "      <td>0</td>\n",
       "      <td>0</td>\n",
       "      <td>1</td>\n",
       "      <td>...</td>\n",
       "      <td>1</td>\n",
       "      <td>0</td>\n",
       "      <td>0</td>\n",
       "      <td>0</td>\n",
       "      <td>3</td>\n",
       "      <td>0</td>\n",
       "      <td>1</td>\n",
       "      <td>0</td>\n",
       "      <td>0</td>\n",
       "      <td>0</td>\n",
       "    </tr>\n",
       "    <tr>\n",
       "      <th>1</th>\n",
       "      <td>dmp752138753</td>\n",
       "      <td>0</td>\n",
       "      <td>0</td>\n",
       "      <td>0</td>\n",
       "      <td>0</td>\n",
       "      <td>0</td>\n",
       "      <td>0</td>\n",
       "      <td>0</td>\n",
       "      <td>0</td>\n",
       "      <td>0</td>\n",
       "      <td>...</td>\n",
       "      <td>0</td>\n",
       "      <td>0</td>\n",
       "      <td>0</td>\n",
       "      <td>0</td>\n",
       "      <td>1</td>\n",
       "      <td>1</td>\n",
       "      <td>2</td>\n",
       "      <td>6</td>\n",
       "      <td>0</td>\n",
       "      <td>0</td>\n",
       "    </tr>\n",
       "    <tr>\n",
       "      <th>2</th>\n",
       "      <td>dmp646269971</td>\n",
       "      <td>3</td>\n",
       "      <td>0</td>\n",
       "      <td>3</td>\n",
       "      <td>0</td>\n",
       "      <td>0</td>\n",
       "      <td>0</td>\n",
       "      <td>0</td>\n",
       "      <td>0</td>\n",
       "      <td>1</td>\n",
       "      <td>...</td>\n",
       "      <td>0</td>\n",
       "      <td>0</td>\n",
       "      <td>0</td>\n",
       "      <td>0</td>\n",
       "      <td>2</td>\n",
       "      <td>0</td>\n",
       "      <td>2</td>\n",
       "      <td>0</td>\n",
       "      <td>0</td>\n",
       "      <td>0</td>\n",
       "    </tr>\n",
       "    <tr>\n",
       "      <th>3</th>\n",
       "      <td>dmp261229437</td>\n",
       "      <td>0</td>\n",
       "      <td>0</td>\n",
       "      <td>0</td>\n",
       "      <td>8</td>\n",
       "      <td>0</td>\n",
       "      <td>0</td>\n",
       "      <td>0</td>\n",
       "      <td>0</td>\n",
       "      <td>0</td>\n",
       "      <td>...</td>\n",
       "      <td>0</td>\n",
       "      <td>0</td>\n",
       "      <td>0</td>\n",
       "      <td>0</td>\n",
       "      <td>0</td>\n",
       "      <td>0</td>\n",
       "      <td>2</td>\n",
       "      <td>7</td>\n",
       "      <td>0</td>\n",
       "      <td>0</td>\n",
       "    </tr>\n",
       "    <tr>\n",
       "      <th>4</th>\n",
       "      <td>dmp881635703</td>\n",
       "      <td>0</td>\n",
       "      <td>0</td>\n",
       "      <td>0</td>\n",
       "      <td>0</td>\n",
       "      <td>0</td>\n",
       "      <td>3</td>\n",
       "      <td>0</td>\n",
       "      <td>0</td>\n",
       "      <td>0</td>\n",
       "      <td>...</td>\n",
       "      <td>0</td>\n",
       "      <td>0</td>\n",
       "      <td>0</td>\n",
       "      <td>4</td>\n",
       "      <td>2</td>\n",
       "      <td>2</td>\n",
       "      <td>1</td>\n",
       "      <td>13</td>\n",
       "      <td>2</td>\n",
       "      <td>0</td>\n",
       "    </tr>\n",
       "  </tbody>\n",
       "</table>\n",
       "<p>5 rows × 83 columns</p>\n",
       "</div>"
      ],
      "text/plain": [
       "     Unnamed: 0  Addthis  Bebo  Blogcatalog  Blogger  Buddymedia  Cnet  \\\n",
       "0  dmp813626769        0     0            0       10           0     0   \n",
       "1  dmp752138753        0     0            0        0           0     0   \n",
       "2  dmp646269971        3     0            3        0           0     0   \n",
       "3  dmp261229437        0     0            0        8           0     0   \n",
       "4  dmp881635703        0     0            0        0           0     3   \n",
       "\n",
       "   Conduit  Customerlobby  Delicious  ...  Vimeo  Vocus  Wetpaint  Wordpress  \\\n",
       "0        0              0          1  ...      1      0         0          0   \n",
       "1        0              0          0  ...      0      0         0          0   \n",
       "2        0              0          1  ...      0      0         0          0   \n",
       "3        0              0          0  ...      0      0         0          0   \n",
       "4        0              0          0  ...      0      0         0          4   \n",
       "\n",
       "   Xanga  Yelp  Yfrog  Youtube  Yuku  Click  \n",
       "0      3     0      1        0     0      0  \n",
       "1      1     1      2        6     0      0  \n",
       "2      2     0      2        0     0      0  \n",
       "3      0     0      2        7     0      0  \n",
       "4      2     2      1       13     2      0  \n",
       "\n",
       "[5 rows x 83 columns]"
      ]
     },
     "execution_count": 55,
     "metadata": {},
     "output_type": "execute_result"
    }
   ],
   "source": [
    "# View dataframe\n",
    "\n",
    "df_test.head()"
   ]
  },
  {
   "cell_type": "code",
   "execution_count": 56,
   "id": "6d6de1ab",
   "metadata": {},
   "outputs": [],
   "source": [
    "# export as CSV\n",
    "df_test.to_csv('prediction results.csv', index=False)"
   ]
  }
 ],
 "metadata": {
  "kernelspec": {
   "display_name": "Python 3",
   "language": "python",
   "name": "python3"
  },
  "language_info": {
   "codemirror_mode": {
    "name": "ipython",
    "version": 3
   },
   "file_extension": ".py",
   "mimetype": "text/x-python",
   "name": "python",
   "nbconvert_exporter": "python",
   "pygments_lexer": "ipython3",
   "version": "3.8.10"
  }
 },
 "nbformat": 4,
 "nbformat_minor": 5
}
